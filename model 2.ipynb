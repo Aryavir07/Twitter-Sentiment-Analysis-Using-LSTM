{
 "cells": [
  {
   "cell_type": "markdown",
   "id": "documented-costa",
   "metadata": {},
   "source": [
    "### Embedding With CNN Model For Sentiment Analysis\n",
    "**Embedding**\n",
    "    - Word embeddings are a technique for representing text where different words with similar meaning have a similar real-valued vector representation.\n",
    "------------------------------------------------------------------------------\n",
    "\n",
    "**Workflow**\n",
    " \n",
    " - Dataset\n",
    " - Data Prepration\n",
    " - Train CNN with Embedding Layer\n",
    " - Evaluate Model"
   ]
  },
  {
   "cell_type": "markdown",
   "id": "agricultural-lodge",
   "metadata": {},
   "source": [
    "**Dataset**\n",
    "https://www.kaggle.com/kazanova/sentiment140"
   ]
  },
  {
   "cell_type": "code",
   "execution_count": 226,
   "id": "defensive-nursing",
   "metadata": {},
   "outputs": [],
   "source": [
    "import pandas as pd"
   ]
  },
  {
   "cell_type": "code",
   "execution_count": 227,
   "id": "matched-natural",
   "metadata": {},
   "outputs": [],
   "source": [
    "df = pd.read_csv('./dataset/tweets.csv', header = None)"
   ]
  },
  {
   "cell_type": "code",
   "execution_count": 228,
   "id": "basic-vessel",
   "metadata": {},
   "outputs": [
    {
     "data": {
      "text/plain": [
       "(1600000, 6)"
      ]
     },
     "execution_count": 228,
     "metadata": {},
     "output_type": "execute_result"
    }
   ],
   "source": [
    "df.shape"
   ]
  },
  {
   "cell_type": "code",
   "execution_count": 229,
   "id": "floppy-cursor",
   "metadata": {},
   "outputs": [
    {
     "data": {
      "text/html": [
       "<div>\n",
       "<style scoped>\n",
       "    .dataframe tbody tr th:only-of-type {\n",
       "        vertical-align: middle;\n",
       "    }\n",
       "\n",
       "    .dataframe tbody tr th {\n",
       "        vertical-align: top;\n",
       "    }\n",
       "\n",
       "    .dataframe thead th {\n",
       "        text-align: right;\n",
       "    }\n",
       "</style>\n",
       "<table border=\"1\" class=\"dataframe\">\n",
       "  <thead>\n",
       "    <tr style=\"text-align: right;\">\n",
       "      <th></th>\n",
       "      <th>0</th>\n",
       "      <th>1</th>\n",
       "      <th>2</th>\n",
       "      <th>3</th>\n",
       "      <th>4</th>\n",
       "      <th>5</th>\n",
       "    </tr>\n",
       "  </thead>\n",
       "  <tbody>\n",
       "    <tr>\n",
       "      <th>0</th>\n",
       "      <td>0</td>\n",
       "      <td>1467810369</td>\n",
       "      <td>Mon Apr 06 22:19:45 PDT 2009</td>\n",
       "      <td>NO_QUERY</td>\n",
       "      <td>_TheSpecialOne_</td>\n",
       "      <td>@switchfoot http://twitpic.com/2y1zl - Awww, t...</td>\n",
       "    </tr>\n",
       "    <tr>\n",
       "      <th>1</th>\n",
       "      <td>0</td>\n",
       "      <td>1467810672</td>\n",
       "      <td>Mon Apr 06 22:19:49 PDT 2009</td>\n",
       "      <td>NO_QUERY</td>\n",
       "      <td>scotthamilton</td>\n",
       "      <td>is upset that he can't update his Facebook by ...</td>\n",
       "    </tr>\n",
       "    <tr>\n",
       "      <th>2</th>\n",
       "      <td>0</td>\n",
       "      <td>1467810917</td>\n",
       "      <td>Mon Apr 06 22:19:53 PDT 2009</td>\n",
       "      <td>NO_QUERY</td>\n",
       "      <td>mattycus</td>\n",
       "      <td>@Kenichan I dived many times for the ball. Man...</td>\n",
       "    </tr>\n",
       "    <tr>\n",
       "      <th>3</th>\n",
       "      <td>0</td>\n",
       "      <td>1467811184</td>\n",
       "      <td>Mon Apr 06 22:19:57 PDT 2009</td>\n",
       "      <td>NO_QUERY</td>\n",
       "      <td>ElleCTF</td>\n",
       "      <td>my whole body feels itchy and like its on fire</td>\n",
       "    </tr>\n",
       "    <tr>\n",
       "      <th>4</th>\n",
       "      <td>0</td>\n",
       "      <td>1467811193</td>\n",
       "      <td>Mon Apr 06 22:19:57 PDT 2009</td>\n",
       "      <td>NO_QUERY</td>\n",
       "      <td>Karoli</td>\n",
       "      <td>@nationwideclass no, it's not behaving at all....</td>\n",
       "    </tr>\n",
       "  </tbody>\n",
       "</table>\n",
       "</div>"
      ],
      "text/plain": [
       "   0           1                             2         3                4  \\\n",
       "0  0  1467810369  Mon Apr 06 22:19:45 PDT 2009  NO_QUERY  _TheSpecialOne_   \n",
       "1  0  1467810672  Mon Apr 06 22:19:49 PDT 2009  NO_QUERY    scotthamilton   \n",
       "2  0  1467810917  Mon Apr 06 22:19:53 PDT 2009  NO_QUERY         mattycus   \n",
       "3  0  1467811184  Mon Apr 06 22:19:57 PDT 2009  NO_QUERY          ElleCTF   \n",
       "4  0  1467811193  Mon Apr 06 22:19:57 PDT 2009  NO_QUERY           Karoli   \n",
       "\n",
       "                                                   5  \n",
       "0  @switchfoot http://twitpic.com/2y1zl - Awww, t...  \n",
       "1  is upset that he can't update his Facebook by ...  \n",
       "2  @Kenichan I dived many times for the ball. Man...  \n",
       "3    my whole body feels itchy and like its on fire   \n",
       "4  @nationwideclass no, it's not behaving at all....  "
      ]
     },
     "execution_count": 229,
     "metadata": {},
     "output_type": "execute_result"
    }
   ],
   "source": [
    "df.head()"
   ]
  },
  {
   "cell_type": "code",
   "execution_count": 230,
   "id": "steady-birthday",
   "metadata": {},
   "outputs": [],
   "source": [
    "df = df.rename(columns={0: 'target', 1: 'id', 2: 'date', 3: 'query', 4: 'username', 5: 'content'})"
   ]
  },
  {
   "cell_type": "code",
   "execution_count": 231,
   "id": "bound-intranet",
   "metadata": {},
   "outputs": [
    {
     "data": {
      "text/html": [
       "<div>\n",
       "<style scoped>\n",
       "    .dataframe tbody tr th:only-of-type {\n",
       "        vertical-align: middle;\n",
       "    }\n",
       "\n",
       "    .dataframe tbody tr th {\n",
       "        vertical-align: top;\n",
       "    }\n",
       "\n",
       "    .dataframe thead th {\n",
       "        text-align: right;\n",
       "    }\n",
       "</style>\n",
       "<table border=\"1\" class=\"dataframe\">\n",
       "  <thead>\n",
       "    <tr style=\"text-align: right;\">\n",
       "      <th></th>\n",
       "      <th>target</th>\n",
       "      <th>id</th>\n",
       "      <th>date</th>\n",
       "      <th>query</th>\n",
       "      <th>username</th>\n",
       "      <th>content</th>\n",
       "    </tr>\n",
       "  </thead>\n",
       "  <tbody>\n",
       "    <tr>\n",
       "      <th>0</th>\n",
       "      <td>0</td>\n",
       "      <td>1467810369</td>\n",
       "      <td>Mon Apr 06 22:19:45 PDT 2009</td>\n",
       "      <td>NO_QUERY</td>\n",
       "      <td>_TheSpecialOne_</td>\n",
       "      <td>@switchfoot http://twitpic.com/2y1zl - Awww, t...</td>\n",
       "    </tr>\n",
       "    <tr>\n",
       "      <th>1</th>\n",
       "      <td>0</td>\n",
       "      <td>1467810672</td>\n",
       "      <td>Mon Apr 06 22:19:49 PDT 2009</td>\n",
       "      <td>NO_QUERY</td>\n",
       "      <td>scotthamilton</td>\n",
       "      <td>is upset that he can't update his Facebook by ...</td>\n",
       "    </tr>\n",
       "    <tr>\n",
       "      <th>2</th>\n",
       "      <td>0</td>\n",
       "      <td>1467810917</td>\n",
       "      <td>Mon Apr 06 22:19:53 PDT 2009</td>\n",
       "      <td>NO_QUERY</td>\n",
       "      <td>mattycus</td>\n",
       "      <td>@Kenichan I dived many times for the ball. Man...</td>\n",
       "    </tr>\n",
       "    <tr>\n",
       "      <th>3</th>\n",
       "      <td>0</td>\n",
       "      <td>1467811184</td>\n",
       "      <td>Mon Apr 06 22:19:57 PDT 2009</td>\n",
       "      <td>NO_QUERY</td>\n",
       "      <td>ElleCTF</td>\n",
       "      <td>my whole body feels itchy and like its on fire</td>\n",
       "    </tr>\n",
       "    <tr>\n",
       "      <th>4</th>\n",
       "      <td>0</td>\n",
       "      <td>1467811193</td>\n",
       "      <td>Mon Apr 06 22:19:57 PDT 2009</td>\n",
       "      <td>NO_QUERY</td>\n",
       "      <td>Karoli</td>\n",
       "      <td>@nationwideclass no, it's not behaving at all....</td>\n",
       "    </tr>\n",
       "  </tbody>\n",
       "</table>\n",
       "</div>"
      ],
      "text/plain": [
       "   target          id                          date     query  \\\n",
       "0       0  1467810369  Mon Apr 06 22:19:45 PDT 2009  NO_QUERY   \n",
       "1       0  1467810672  Mon Apr 06 22:19:49 PDT 2009  NO_QUERY   \n",
       "2       0  1467810917  Mon Apr 06 22:19:53 PDT 2009  NO_QUERY   \n",
       "3       0  1467811184  Mon Apr 06 22:19:57 PDT 2009  NO_QUERY   \n",
       "4       0  1467811193  Mon Apr 06 22:19:57 PDT 2009  NO_QUERY   \n",
       "\n",
       "          username                                            content  \n",
       "0  _TheSpecialOne_  @switchfoot http://twitpic.com/2y1zl - Awww, t...  \n",
       "1    scotthamilton  is upset that he can't update his Facebook by ...  \n",
       "2         mattycus  @Kenichan I dived many times for the ball. Man...  \n",
       "3          ElleCTF    my whole body feels itchy and like its on fire   \n",
       "4           Karoli  @nationwideclass no, it's not behaving at all....  "
      ]
     },
     "execution_count": 231,
     "metadata": {},
     "output_type": "execute_result"
    }
   ],
   "source": [
    "df.head()"
   ]
  },
  {
   "cell_type": "code",
   "execution_count": 232,
   "id": "placed-thesaurus",
   "metadata": {},
   "outputs": [],
   "source": [
    "pd.set_option('display.max_columns', 2000)\n",
    "pd.set_option('display.max_rows', 100)"
   ]
  },
  {
   "cell_type": "code",
   "execution_count": 233,
   "id": "approximate-mouse",
   "metadata": {},
   "outputs": [
    {
     "name": "stdout",
     "output_type": "stream",
     "text": [
      "800000\n",
      "0\n",
      "800000\n"
     ]
    }
   ],
   "source": [
    "negativeTweets = df[df['target']==0]['content'].count()\n",
    "print(negativeTweets)\n",
    "neutralTweets = df[df['target']==2]['content'].count()\n",
    "print(neutralTweets)\n",
    "positiveTweets = df[df['target']==4]['content'].count()\n",
    "print(positiveTweets)"
   ]
  },
  {
   "cell_type": "code",
   "execution_count": 234,
   "id": "bigger-destiny",
   "metadata": {},
   "outputs": [],
   "source": [
    "df['target'] = df['target'].replace([0,4],[0,1])"
   ]
  },
  {
   "cell_type": "code",
   "execution_count": 235,
   "id": "original-single",
   "metadata": {},
   "outputs": [],
   "source": [
    "import seaborn as sns\n",
    "import matplotlib.pyplot as plt"
   ]
  },
  {
   "cell_type": "code",
   "execution_count": 236,
   "id": "stylish-forwarding",
   "metadata": {},
   "outputs": [],
   "source": [
    "# plt.figure(figsize=(14,7))\n",
    "# common_keyword=sns.barplot(x=df[df['target']==1]['username'].value_counts()[:10].index,\n",
    "#                            y=df[df['target']==1]['username'].value_counts()[:10],palette='magma')\n",
    "# common_keyword.set_xticklabels(common_keyword.get_xticklabels(),rotation=90)\n",
    "# common_keyword.set_ylabel('Positive tweet frequency',fontsize=12)\n",
    "# plt.title('Top 10 users who publish positive tweets',fontsize=16)\n",
    "# plt.show()"
   ]
  },
  {
   "cell_type": "code",
   "execution_count": 237,
   "id": "forbidden-wrapping",
   "metadata": {},
   "outputs": [],
   "source": [
    "# plt.figure(figsize=(14,7))\n",
    "# common_keyword=sns.barplot(x=df[df['target']==0]['username'].value_counts()[:10].index,\n",
    "#                            y=df[df['target']==0]['username'].value_counts()[:10],palette='magma')\n",
    "# common_keyword.set_xticklabels(common_keyword.get_xticklabels(),rotation=90)\n",
    "# common_keyword.set_ylabel('Positive tweet frequency',fontsize=12)\n",
    "# plt.title('Top 10 users who publish positive tweets',fontsize=16)\n",
    "# plt.show()"
   ]
  },
  {
   "cell_type": "code",
   "execution_count": 238,
   "id": "iraqi-possibility",
   "metadata": {},
   "outputs": [],
   "source": [
    "df.drop(['id','date','query','username'], axis=1, inplace=True)"
   ]
  },
  {
   "cell_type": "code",
   "execution_count": 239,
   "id": "subsequent-serbia",
   "metadata": {},
   "outputs": [
    {
     "data": {
      "text/html": [
       "<div>\n",
       "<style scoped>\n",
       "    .dataframe tbody tr th:only-of-type {\n",
       "        vertical-align: middle;\n",
       "    }\n",
       "\n",
       "    .dataframe tbody tr th {\n",
       "        vertical-align: top;\n",
       "    }\n",
       "\n",
       "    .dataframe thead th {\n",
       "        text-align: right;\n",
       "    }\n",
       "</style>\n",
       "<table border=\"1\" class=\"dataframe\">\n",
       "  <thead>\n",
       "    <tr style=\"text-align: right;\">\n",
       "      <th></th>\n",
       "      <th>target</th>\n",
       "      <th>content</th>\n",
       "    </tr>\n",
       "  </thead>\n",
       "  <tbody>\n",
       "    <tr>\n",
       "      <th>0</th>\n",
       "      <td>0</td>\n",
       "      <td>@switchfoot http://twitpic.com/2y1zl - Awww, t...</td>\n",
       "    </tr>\n",
       "    <tr>\n",
       "      <th>1</th>\n",
       "      <td>0</td>\n",
       "      <td>is upset that he can't update his Facebook by ...</td>\n",
       "    </tr>\n",
       "    <tr>\n",
       "      <th>2</th>\n",
       "      <td>0</td>\n",
       "      <td>@Kenichan I dived many times for the ball. Man...</td>\n",
       "    </tr>\n",
       "    <tr>\n",
       "      <th>3</th>\n",
       "      <td>0</td>\n",
       "      <td>my whole body feels itchy and like its on fire</td>\n",
       "    </tr>\n",
       "    <tr>\n",
       "      <th>4</th>\n",
       "      <td>0</td>\n",
       "      <td>@nationwideclass no, it's not behaving at all....</td>\n",
       "    </tr>\n",
       "  </tbody>\n",
       "</table>\n",
       "</div>"
      ],
      "text/plain": [
       "   target                                            content\n",
       "0       0  @switchfoot http://twitpic.com/2y1zl - Awww, t...\n",
       "1       0  is upset that he can't update his Facebook by ...\n",
       "2       0  @Kenichan I dived many times for the ball. Man...\n",
       "3       0    my whole body feels itchy and like its on fire \n",
       "4       0  @nationwideclass no, it's not behaving at all...."
      ]
     },
     "execution_count": 239,
     "metadata": {},
     "output_type": "execute_result"
    }
   ],
   "source": [
    "df.head()"
   ]
  },
  {
   "cell_type": "markdown",
   "id": "hindu-iraqi",
   "metadata": {},
   "source": [
    "### Data prepration"
   ]
  },
  {
   "cell_type": "code",
   "execution_count": 240,
   "id": "appropriate-couple",
   "metadata": {},
   "outputs": [],
   "source": [
    "from sklearn.utils import shuffle\n",
    "df = shuffle(df)"
   ]
  },
  {
   "cell_type": "code",
   "execution_count": 241,
   "id": "bound-supplier",
   "metadata": {},
   "outputs": [],
   "source": [
    "df = df.iloc[0:100000]"
   ]
  },
  {
   "cell_type": "code",
   "execution_count": 242,
   "id": "revised-hanging",
   "metadata": {
    "scrolled": true
   },
   "outputs": [
    {
     "data": {
      "text/html": [
       "<div>\n",
       "<style scoped>\n",
       "    .dataframe tbody tr th:only-of-type {\n",
       "        vertical-align: middle;\n",
       "    }\n",
       "\n",
       "    .dataframe tbody tr th {\n",
       "        vertical-align: top;\n",
       "    }\n",
       "\n",
       "    .dataframe thead th {\n",
       "        text-align: right;\n",
       "    }\n",
       "</style>\n",
       "<table border=\"1\" class=\"dataframe\">\n",
       "  <thead>\n",
       "    <tr style=\"text-align: right;\">\n",
       "      <th></th>\n",
       "      <th>target</th>\n",
       "      <th>content</th>\n",
       "    </tr>\n",
       "  </thead>\n",
       "  <tbody>\n",
       "    <tr>\n",
       "      <th>1148909</th>\n",
       "      <td>1</td>\n",
       "      <td>I am really bad at this Twitter thing, but if ...</td>\n",
       "    </tr>\n",
       "    <tr>\n",
       "      <th>5214</th>\n",
       "      <td>0</td>\n",
       "      <td>@ChrisInBoston Baston... that sucks dude.    {...</td>\n",
       "    </tr>\n",
       "    <tr>\n",
       "      <th>401271</th>\n",
       "      <td>0</td>\n",
       "      <td>holy shit its already 4!! omfg what a waste of...</td>\n",
       "    </tr>\n",
       "    <tr>\n",
       "      <th>1514675</th>\n",
       "      <td>1</td>\n",
       "      <td>Meg joined the Pig of the Month competion  htt...</td>\n",
       "    </tr>\n",
       "    <tr>\n",
       "      <th>1243242</th>\n",
       "      <td>1</td>\n",
       "      <td>@Azikale Are you suffering with Dave Syndrome?...</td>\n",
       "    </tr>\n",
       "    <tr>\n",
       "      <th>1356301</th>\n",
       "      <td>1</td>\n",
       "      <td>@Katashtrophy I'm not a gamer but I am a BOARD...</td>\n",
       "    </tr>\n",
       "    <tr>\n",
       "      <th>1218437</th>\n",
       "      <td>1</td>\n",
       "      <td>@SarahJacinta Thank you!</td>\n",
       "    </tr>\n",
       "    <tr>\n",
       "      <th>761592</th>\n",
       "      <td>0</td>\n",
       "      <td>Just finished a bag of Fritos. My head hurts</td>\n",
       "    </tr>\n",
       "    <tr>\n",
       "      <th>112455</th>\n",
       "      <td>0</td>\n",
       "      <td>@RespectMileyC You have school tomorrow   aw t...</td>\n",
       "    </tr>\n",
       "    <tr>\n",
       "      <th>254181</th>\n",
       "      <td>0</td>\n",
       "      <td>I has no juice and i just vaccumed up a pink p...</td>\n",
       "    </tr>\n",
       "    <tr>\n",
       "      <th>630654</th>\n",
       "      <td>0</td>\n",
       "      <td>@ddlovato, @mileycyrus, @taylorswift, and @sel...</td>\n",
       "    </tr>\n",
       "    <tr>\n",
       "      <th>545224</th>\n",
       "      <td>0</td>\n",
       "      <td>some people in this world are just so sick. it...</td>\n",
       "    </tr>\n",
       "    <tr>\n",
       "      <th>1463532</th>\n",
       "      <td>1</td>\n",
       "      <td>@Katersoneseven honey and lemon in boiling wat...</td>\n",
       "    </tr>\n",
       "    <tr>\n",
       "      <th>1465873</th>\n",
       "      <td>1</td>\n",
       "      <td>@f4tty Received loud and clear! I'll send you ...</td>\n",
       "    </tr>\n",
       "    <tr>\n",
       "      <th>399054</th>\n",
       "      <td>0</td>\n",
       "      <td>is sick  with a cold....</td>\n",
       "    </tr>\n",
       "    <tr>\n",
       "      <th>224076</th>\n",
       "      <td>0</td>\n",
       "      <td>@JuniesgurlIt's the last night for me to be on...</td>\n",
       "    </tr>\n",
       "    <tr>\n",
       "      <th>557506</th>\n",
       "      <td>0</td>\n",
       "      <td>@chrys73 IM HAPPY 4 Y YES YES YES!! IM ANNOYED...</td>\n",
       "    </tr>\n",
       "    <tr>\n",
       "      <th>1102102</th>\n",
       "      <td>1</td>\n",
       "      <td>@alexanderrybak jeg elsker deg!!! (:  i got my...</td>\n",
       "    </tr>\n",
       "    <tr>\n",
       "      <th>648874</th>\n",
       "      <td>0</td>\n",
       "      <td>@bethg40   hope it starts to feeling like Friday!</td>\n",
       "    </tr>\n",
       "    <tr>\n",
       "      <th>869307</th>\n",
       "      <td>1</td>\n",
       "      <td>@thomasnesse @plo @nrkbeta SVT (  http://bit.l...</td>\n",
       "    </tr>\n",
       "    <tr>\n",
       "      <th>378266</th>\n",
       "      <td>0</td>\n",
       "      <td>iTunes messes up the order of the songs in an ...</td>\n",
       "    </tr>\n",
       "    <tr>\n",
       "      <th>1245886</th>\n",
       "      <td>1</td>\n",
       "      <td>@MichelleCarrick i wasn't expecting it so yeah...</td>\n",
       "    </tr>\n",
       "    <tr>\n",
       "      <th>976534</th>\n",
       "      <td>1</td>\n",
       "      <td>is now uploading vids on mulitply.  http://plu...</td>\n",
       "    </tr>\n",
       "    <tr>\n",
       "      <th>733629</th>\n",
       "      <td>0</td>\n",
       "      <td>Has a very bad hangover, Also how much does th...</td>\n",
       "    </tr>\n",
       "    <tr>\n",
       "      <th>944758</th>\n",
       "      <td>1</td>\n",
       "      <td>wasssup everyone - weekend is near</td>\n",
       "    </tr>\n",
       "    <tr>\n",
       "      <th>1161832</th>\n",
       "      <td>1</td>\n",
       "      <td>@tombarrett got it! thank you...still am confu...</td>\n",
       "    </tr>\n",
       "    <tr>\n",
       "      <th>1170514</th>\n",
       "      <td>1</td>\n",
       "      <td>@MinBitt Depends on the child, but I would thi...</td>\n",
       "    </tr>\n",
       "    <tr>\n",
       "      <th>1504739</th>\n",
       "      <td>1</td>\n",
       "      <td>@GabrielMY Great cant wait to read them</td>\n",
       "    </tr>\n",
       "    <tr>\n",
       "      <th>467269</th>\n",
       "      <td>0</td>\n",
       "      <td>@ayatoshirosan ...received the mailgram of whi...</td>\n",
       "    </tr>\n",
       "    <tr>\n",
       "      <th>1466678</th>\n",
       "      <td>1</td>\n",
       "      <td>@ave77 be sure to visit http://www.MedanKu.com</td>\n",
       "    </tr>\n",
       "  </tbody>\n",
       "</table>\n",
       "</div>"
      ],
      "text/plain": [
       "         target                                            content\n",
       "1148909       1  I am really bad at this Twitter thing, but if ...\n",
       "5214          0  @ChrisInBoston Baston... that sucks dude.    {...\n",
       "401271        0  holy shit its already 4!! omfg what a waste of...\n",
       "1514675       1  Meg joined the Pig of the Month competion  htt...\n",
       "1243242       1  @Azikale Are you suffering with Dave Syndrome?...\n",
       "1356301       1  @Katashtrophy I'm not a gamer but I am a BOARD...\n",
       "1218437       1                          @SarahJacinta Thank you! \n",
       "761592        0      Just finished a bag of Fritos. My head hurts \n",
       "112455        0  @RespectMileyC You have school tomorrow   aw t...\n",
       "254181        0  I has no juice and i just vaccumed up a pink p...\n",
       "630654        0  @ddlovato, @mileycyrus, @taylorswift, and @sel...\n",
       "545224        0  some people in this world are just so sick. it...\n",
       "1463532       1  @Katersoneseven honey and lemon in boiling wat...\n",
       "1465873       1  @f4tty Received loud and clear! I'll send you ...\n",
       "399054        0                          is sick  with a cold.... \n",
       "224076        0  @JuniesgurlIt's the last night for me to be on...\n",
       "557506        0  @chrys73 IM HAPPY 4 Y YES YES YES!! IM ANNOYED...\n",
       "1102102       1  @alexanderrybak jeg elsker deg!!! (:  i got my...\n",
       "648874        0  @bethg40   hope it starts to feeling like Friday!\n",
       "869307        1  @thomasnesse @plo @nrkbeta SVT (  http://bit.l...\n",
       "378266        0  iTunes messes up the order of the songs in an ...\n",
       "1245886       1  @MichelleCarrick i wasn't expecting it so yeah...\n",
       "976534        1  is now uploading vids on mulitply.  http://plu...\n",
       "733629        0  Has a very bad hangover, Also how much does th...\n",
       "944758        1                wasssup everyone - weekend is near \n",
       "1161832       1  @tombarrett got it! thank you...still am confu...\n",
       "1170514       1  @MinBitt Depends on the child, but I would thi...\n",
       "1504739       1           @GabrielMY Great cant wait to read them \n",
       "467269        0  @ayatoshirosan ...received the mailgram of whi...\n",
       "1466678       1    @ave77 be sure to visit http://www.MedanKu.com "
      ]
     },
     "execution_count": 242,
     "metadata": {},
     "output_type": "execute_result"
    }
   ],
   "source": [
    "df.head(30)"
   ]
  },
  {
   "cell_type": "code",
   "execution_count": 243,
   "id": "industrial-sewing",
   "metadata": {},
   "outputs": [
    {
     "data": {
      "text/plain": [
       "(50020, 49980)"
      ]
     },
     "execution_count": 243,
     "metadata": {},
     "output_type": "execute_result"
    }
   ],
   "source": [
    "df[df['target']==0]['target'].count(),df[df['target']==1]['target'].count()"
   ]
  },
  {
   "cell_type": "code",
   "execution_count": 244,
   "id": "typical-owner",
   "metadata": {},
   "outputs": [],
   "source": [
    "from nltk.corpus import stopwords\n",
    "import string\n",
    "import re\n",
    "from nltk.stem.snowball import SnowballStemmer "
   ]
  },
  {
   "cell_type": "code",
   "execution_count": 245,
   "id": "sufficient-argument",
   "metadata": {},
   "outputs": [],
   "source": [
    "regex = \"@\\S+|https?:\\S+|http?:\\S|[^A-Za-z0-9]+\" \n",
    "english_stopwords = stopwords.words('english')\n",
    "stemmer = SnowballStemmer('english')"
   ]
  },
  {
   "cell_type": "code",
   "execution_count": 246,
   "id": "significant-replacement",
   "metadata": {},
   "outputs": [],
   "source": [
    "def clean_data(content, stem=False):\n",
    "    content = re.sub(regex, ' ', str(content).lower()).strip()\n",
    "    tokens = []\n",
    "    for token in content.split():\n",
    "        if token not in english_stopwords:\n",
    "              tokens.append(stemmer.stem(token))\n",
    "    return \" \".join(tokens)"
   ]
  },
  {
   "cell_type": "code",
   "execution_count": 247,
   "id": "concrete-disability",
   "metadata": {},
   "outputs": [],
   "source": [
    "df.content = df.content.apply(lambda x: clean_data(x))"
   ]
  },
  {
   "cell_type": "code",
   "execution_count": 248,
   "id": "moving-quantum",
   "metadata": {},
   "outputs": [
    {
     "data": {
      "text/html": [
       "<div>\n",
       "<style scoped>\n",
       "    .dataframe tbody tr th:only-of-type {\n",
       "        vertical-align: middle;\n",
       "    }\n",
       "\n",
       "    .dataframe tbody tr th {\n",
       "        vertical-align: top;\n",
       "    }\n",
       "\n",
       "    .dataframe thead th {\n",
       "        text-align: right;\n",
       "    }\n",
       "</style>\n",
       "<table border=\"1\" class=\"dataframe\">\n",
       "  <thead>\n",
       "    <tr style=\"text-align: right;\">\n",
       "      <th></th>\n",
       "      <th>target</th>\n",
       "      <th>content</th>\n",
       "    </tr>\n",
       "  </thead>\n",
       "  <tbody>\n",
       "    <tr>\n",
       "      <th>1148909</th>\n",
       "      <td>1</td>\n",
       "      <td>realli bad twitter thing anyon would like get ...</td>\n",
       "    </tr>\n",
       "    <tr>\n",
       "      <th>5214</th>\n",
       "      <td>0</td>\n",
       "      <td>baston suck dude send happi thought way</td>\n",
       "    </tr>\n",
       "    <tr>\n",
       "      <th>401271</th>\n",
       "      <td>0</td>\n",
       "      <td>holi shit alreadi 4 omfg wast saturday</td>\n",
       "    </tr>\n",
       "    <tr>\n",
       "      <th>1514675</th>\n",
       "      <td>1</td>\n",
       "      <td>meg join pig month compet</td>\n",
       "    </tr>\n",
       "    <tr>\n",
       "      <th>1243242</th>\n",
       "      <td>1</td>\n",
       "      <td>suffer dave syndrom jump roof car loincloth</td>\n",
       "    </tr>\n",
       "  </tbody>\n",
       "</table>\n",
       "</div>"
      ],
      "text/plain": [
       "         target                                            content\n",
       "1148909       1  realli bad twitter thing anyon would like get ...\n",
       "5214          0            baston suck dude send happi thought way\n",
       "401271        0             holi shit alreadi 4 omfg wast saturday\n",
       "1514675       1                          meg join pig month compet\n",
       "1243242       1        suffer dave syndrom jump roof car loincloth"
      ]
     },
     "execution_count": 248,
     "metadata": {},
     "output_type": "execute_result"
    }
   ],
   "source": [
    "df.head()"
   ]
  },
  {
   "cell_type": "code",
   "execution_count": 249,
   "id": "grand-investment",
   "metadata": {},
   "outputs": [],
   "source": [
    "#df.to_csv('cleadDataset.csv', header=False, index=False) "
   ]
  },
  {
   "cell_type": "markdown",
   "id": "innocent-passion",
   "metadata": {},
   "source": [
    "### Define A Vocabulary\n",
    "- We can develop a vocabulary as a Counter, which is a dictionary mapping of words and their count that allows us to easily update and query. Each document can be added to the counter (a new function called add doc to vocab()) and we can step over all of the tweets in the negative directory and then the positive directory (a new function called process docs()).\n"
   ]
  },
  {
   "cell_type": "code",
   "execution_count": 250,
   "id": "through-symbol",
   "metadata": {},
   "outputs": [],
   "source": [
    "from collections import Counter"
   ]
  },
  {
   "cell_type": "code",
   "execution_count": 251,
   "id": "initial-export",
   "metadata": {},
   "outputs": [],
   "source": [
    "def clean_tweet(doc):\n",
    "    tokens = doc.split()\n",
    "    stop_words = set(stopwords.words('english'))\n",
    "    tokens = [w for w in tokens if not w in stop_words and len(w) > 1]\n",
    "    return tokens"
   ]
  },
  {
   "cell_type": "code",
   "execution_count": 252,
   "id": "challenging-memory",
   "metadata": {},
   "outputs": [],
   "source": [
    "# load tweets and add to vocab/dictionary\n",
    "def add_to_vocab(tweets, vocab):\n",
    "    #load tweet\n",
    "    for x in tweets.content:\n",
    "        tokens = clean_tweet(x)\n",
    "        vocab.update(tokens)"
   ]
  },
  {
   "cell_type": "code",
   "execution_count": 253,
   "id": "expressed-meeting",
   "metadata": {},
   "outputs": [],
   "source": [
    "vocab = Counter()\n",
    "add_to_vocab(df, vocab)"
   ]
  },
  {
   "cell_type": "code",
   "execution_count": 254,
   "id": "affected-electric",
   "metadata": {},
   "outputs": [
    {
     "data": {
      "text/plain": [
       "47125"
      ]
     },
     "execution_count": 254,
     "metadata": {},
     "output_type": "execute_result"
    }
   ],
   "source": [
    "len(vocab)"
   ]
  },
  {
   "cell_type": "code",
   "execution_count": 255,
   "id": "elegant-business",
   "metadata": {},
   "outputs": [],
   "source": [
    "# vocab.items()"
   ]
  },
  {
   "cell_type": "code",
   "execution_count": 256,
   "id": "affected-directive",
   "metadata": {},
   "outputs": [],
   "source": [
    "# import json"
   ]
  },
  {
   "cell_type": "code",
   "execution_count": 257,
   "id": "conventional-myrtle",
   "metadata": {},
   "outputs": [],
   "source": [
    "# vocabToJson = json.dumps(vocab, indent = 4)   "
   ]
  },
  {
   "cell_type": "code",
   "execution_count": 258,
   "id": "indoor-implement",
   "metadata": {},
   "outputs": [],
   "source": [
    "# with open('dictionary.json', 'w+') as f:\n",
    "#     # this would place the entire output on one line\n",
    "#     # use json.dump(lista_items, f, indent=4) to \"pretty-print\" with four spaces per indent\n",
    "#     json.dump(vocabToJson, f)"
   ]
  },
  {
   "cell_type": "code",
   "execution_count": 259,
   "id": "capable-fundamentals",
   "metadata": {},
   "outputs": [
    {
     "name": "stdout",
     "output_type": "stream",
     "text": [
      "17695\n"
     ]
    }
   ],
   "source": [
    "#keep tokens with min occurences\n",
    "min_occurance = 2\n",
    "tokens = [k for k, c in vocab.items() if c >= min_occurance]\n",
    "print(len(tokens))"
   ]
  },
  {
   "cell_type": "code",
   "execution_count": 260,
   "id": "stunning-release",
   "metadata": {},
   "outputs": [],
   "source": [
    "# save list to file\n",
    "def save_list(lines, filename):\n",
    "    #convert lines to a single blob of text\n",
    "    data = '\\n'.join(lines)\n",
    "    #open file \n",
    "    file = open(filename,'w')\n",
    "    #write text\n",
    "    file.write(data)\n",
    "    #close file\n",
    "    file.close()"
   ]
  },
  {
   "cell_type": "code",
   "execution_count": 261,
   "id": "prostate-confidentiality",
   "metadata": {},
   "outputs": [],
   "source": [
    "#save_list(tokens,'filteredDictionary.txt')"
   ]
  },
  {
   "cell_type": "markdown",
   "id": "comfortable-intro",
   "metadata": {},
   "source": [
    "### Train CNN with Embedding Layer\n",
    "\n",
    "A word embedding is a way of representing text where each word in\n",
    "the vocabulary is represented by a real valued vector in a high-dimensional space. The vectors\n",
    "are learned in such a way that words that have similar meanings will have similar representation\n",
    "in the vector space (close in the vector space). This is a more expressive representation for text\n",
    "than more classical methods like bag-of-words, where relationships between words or tokens are\n",
    "ignored, or forced in bigram and trigram approaches.\n",
    "\n",
    "\n",
    "The real valued vector representation for words can be learned while training the neural\n",
    "network. We can do this in the Keras deep learning library using the Embedding layer. The\n",
    "first step is to load the vocabulary. We will use it to filter out words from tweets that\n",
    "we are not interested in."
   ]
  },
  {
   "cell_type": "code",
   "execution_count": 262,
   "id": "banned-independence",
   "metadata": {},
   "outputs": [],
   "source": [
    "def load_doc(filename):\n",
    "    # open the file as read only\n",
    "    file = open(filename, 'r')\n",
    "    text = file.read()\n",
    "    file.close()\n",
    "    return text"
   ]
  },
  {
   "cell_type": "code",
   "execution_count": 263,
   "id": "smoking-guess",
   "metadata": {},
   "outputs": [],
   "source": [
    "vocab_file = 'filteredDictionary.txt'\n",
    "vocab = load_doc(vocab_file)\n",
    "vocab = set(vocab.split())"
   ]
  },
  {
   "cell_type": "code",
   "execution_count": 264,
   "id": "honest-interpretation",
   "metadata": {},
   "outputs": [],
   "source": [
    "# fit a tokenizer\n",
    "def create_tokenizer(lines):\n",
    "    tokenizer = Tokenizer()\n",
    "    tokenizer.fit_on_texts(lines)\n",
    "    return tokenizer\n"
   ]
  },
  {
   "cell_type": "code",
   "execution_count": 265,
   "id": "sublime-chase",
   "metadata": {},
   "outputs": [
    {
     "name": "stdout",
     "output_type": "stream",
     "text": [
      "Maximum length: 34\n"
     ]
    }
   ],
   "source": [
    "max_length = max([len(s.split()) for s in df.content])\n",
    "print('Maximum length: %d' % max_length)\n"
   ]
  },
  {
   "cell_type": "code",
   "execution_count": 266,
   "id": "southeast-loading",
   "metadata": {},
   "outputs": [],
   "source": [
    "# integer encode and pad documents\n",
    "def encode_docs(tokenizer, max_length, docs):\n",
    "    # integer encode\n",
    "    encoded = tokenizer.texts_to_sequences(docs)\n",
    "    # pad sequences\n",
    "    padded = pad_sequences(encoded, maxlen=max_length, padding='post')\n",
    "    return padded\n"
   ]
  },
  {
   "cell_type": "code",
   "execution_count": 267,
   "id": "applicable-cream",
   "metadata": {},
   "outputs": [],
   "source": [
    "from keras.preprocessing.text import Tokenizer"
   ]
  },
  {
   "cell_type": "code",
   "execution_count": 268,
   "id": "seeing-crown",
   "metadata": {},
   "outputs": [],
   "source": [
    "tokenizer = Tokenizer()\n",
    "tokenizer.fit_on_texts(df.content)\n",
    "vocab_size = len(tokenizer.word_index) + 1"
   ]
  },
  {
   "cell_type": "code",
   "execution_count": 269,
   "id": "tribal-theory",
   "metadata": {},
   "outputs": [
    {
     "name": "stdout",
     "output_type": "stream",
     "text": [
      "Vocabulary size: 47204\n"
     ]
    }
   ],
   "source": [
    "# define vocabulary size\n",
    "print('Vocabulary size: %d' % vocab_size)\n"
   ]
  },
  {
   "cell_type": "code",
   "execution_count": 270,
   "id": "collaborative-laser",
   "metadata": {},
   "outputs": [],
   "source": [
    "from sklearn.model_selection import train_test_split"
   ]
  },
  {
   "cell_type": "code",
   "execution_count": 271,
   "id": "pacific-vegetation",
   "metadata": {},
   "outputs": [],
   "source": [
    "train, test = train_test_split(df, test_size = 0.3, random_state = 4)"
   ]
  },
  {
   "cell_type": "code",
   "execution_count": 272,
   "id": "passive-graham",
   "metadata": {
    "scrolled": false
   },
   "outputs": [
    {
     "name": "stdout",
     "output_type": "stream",
     "text": [
      "train dataset size: (70000, 2)\n",
      "test dataset size: (30000, 2)\n"
     ]
    }
   ],
   "source": [
    "print('train dataset size: {}'.format(train.shape))\n",
    "print('test dataset size: {}'.format(test.shape))"
   ]
  },
  {
   "cell_type": "code",
   "execution_count": 273,
   "id": "serious-relief",
   "metadata": {},
   "outputs": [],
   "source": [
    "train = shuffle(train)"
   ]
  },
  {
   "cell_type": "code",
   "execution_count": 274,
   "id": "killing-director",
   "metadata": {},
   "outputs": [],
   "source": [
    "test = shuffle(test)"
   ]
  },
  {
   "cell_type": "markdown",
   "id": "other-diesel",
   "metadata": {},
   "source": [
    "### Define Model"
   ]
  },
  {
   "cell_type": "code",
   "execution_count": 275,
   "id": "tracked-apache",
   "metadata": {},
   "outputs": [],
   "source": [
    "import tensorflow as tf\n",
    "import seaborn as sns\n",
    "from sklearn.model_selection import train_test_split\n",
    "from sklearn.metrics import classification_report\n",
    "from keras.preprocessing.text import Tokenizer\n",
    "from keras.preprocessing.sequence import pad_sequences\n",
    "from keras.models import Sequential\n",
    "from keras.layers import Activation, Dense, Dropout, Embedding, Flatten, Conv1D, MaxPooling1D, LSTM\n",
    "from keras import utils\n",
    "from keras.callbacks import ReduceLROnPlateau, EarlyStopping\n",
    "from keras.optimizers import Adam"
   ]
  },
  {
   "cell_type": "code",
   "execution_count": 276,
   "id": "jewish-constitution",
   "metadata": {},
   "outputs": [],
   "source": [
    "train_sequences = tokenizer.texts_to_sequences(train.content)\n",
    "test_sequences = tokenizer.texts_to_sequences(test.content)"
   ]
  },
  {
   "cell_type": "code",
   "execution_count": 277,
   "id": "killing-tribute",
   "metadata": {},
   "outputs": [],
   "source": [
    "X_train =  pad_sequences(train_sequences, maxlen = max_length, padding = 'post')\n",
    "X_test = pad_sequences(test_sequences, maxlen = max_length, padding = 'post')"
   ]
  },
  {
   "cell_type": "code",
   "execution_count": 294,
   "id": "abandoned-geneva",
   "metadata": {},
   "outputs": [],
   "source": [
    "def encode_tweet(tokenizer, max_length, tweet):\n",
    "    encoded = tokenizer.texts_to_sequences(tweet)\n",
    "    padded = pad_sequences(train_sequences, maxlen = max_length, padding = 'post')\n",
    "    return padded"
   ]
  },
  {
   "cell_type": "code",
   "execution_count": 278,
   "id": "intermediate-virgin",
   "metadata": {},
   "outputs": [
    {
     "data": {
      "text/plain": [
       "array([[  63,  258,    0, ...,    0,    0,    0],\n",
       "       [ 380,   25, 1447, ...,    0,    0,    0],\n",
       "       [ 113,   36,    0, ...,    0,    0,    0],\n",
       "       ...,\n",
       "       [   1,   49,    0, ...,    0,    0,    0],\n",
       "       [ 777,  826,   74, ...,    0,    0,    0],\n",
       "       [   7,   16,   42, ...,    0,    0,    0]])"
      ]
     },
     "execution_count": 278,
     "metadata": {},
     "output_type": "execute_result"
    }
   ],
   "source": [
    "X_train"
   ]
  },
  {
   "cell_type": "code",
   "execution_count": 279,
   "id": "returning-winner",
   "metadata": {},
   "outputs": [
    {
     "data": {
      "text/plain": [
       "(70000, 34)"
      ]
     },
     "execution_count": 279,
     "metadata": {},
     "output_type": "execute_result"
    }
   ],
   "source": [
    "X_train.shape"
   ]
  },
  {
   "cell_type": "code",
   "execution_count": 280,
   "id": "consistent-result",
   "metadata": {},
   "outputs": [],
   "source": [
    "Y_train = train.target.values # np array\n",
    "Y_test = test.target.values"
   ]
  },
  {
   "cell_type": "code",
   "execution_count": 281,
   "id": "piano-subcommittee",
   "metadata": {},
   "outputs": [
    {
     "data": {
      "text/plain": [
       "array([0, 0, 1, 1, 1, 1, 0, 0, 0, 1], dtype=int64)"
      ]
     },
     "execution_count": 281,
     "metadata": {},
     "output_type": "execute_result"
    }
   ],
   "source": [
    "Y_train[0:10]"
   ]
  },
  {
   "cell_type": "code",
   "execution_count": 282,
   "id": "local-tiger",
   "metadata": {},
   "outputs": [],
   "source": [
    "def define_model(vocab_size, max_length):\n",
    "    model = Sequential()\n",
    "    model.add(Embedding(vocab_size, 100, input_length=max_length))\n",
    "    model.add(Conv1D(filters=32, kernel_size=8, activation='relu'))\n",
    "    model.add(MaxPooling1D(pool_size=2))\n",
    "    model.add(Flatten())\n",
    "    model.add(Dense(10, activation='relu'))\n",
    "    model.add(Dense(1, activation='sigmoid'))\n",
    "    # compile network\n",
    "    model.compile(loss='binary_crossentropy', optimizer = Adam(learning_rate=0.001), metrics=['accuracy'])\n",
    "    # summarize defined model\n",
    "    model.summary()\n",
    "    return model"
   ]
  },
  {
   "cell_type": "code",
   "execution_count": 292,
   "id": "instant-correction",
   "metadata": {},
   "outputs": [
    {
     "name": "stdout",
     "output_type": "stream",
     "text": [
      "Model: \"sequential_4\"\n",
      "_________________________________________________________________\n",
      "Layer (type)                 Output Shape              Param #   \n",
      "=================================================================\n",
      "embedding_4 (Embedding)      (None, 34, 100)           4720400   \n",
      "_________________________________________________________________\n",
      "conv1d_4 (Conv1D)            (None, 27, 32)            25632     \n",
      "_________________________________________________________________\n",
      "max_pooling1d_4 (MaxPooling1 (None, 13, 32)            0         \n",
      "_________________________________________________________________\n",
      "flatten_4 (Flatten)          (None, 416)               0         \n",
      "_________________________________________________________________\n",
      "dense_8 (Dense)              (None, 10)                4170      \n",
      "_________________________________________________________________\n",
      "dense_9 (Dense)              (None, 1)                 11        \n",
      "=================================================================\n",
      "Total params: 4,750,213\n",
      "Trainable params: 4,750,213\n",
      "Non-trainable params: 0\n",
      "_________________________________________________________________\n"
     ]
    }
   ],
   "source": [
    "model = define_model(vocab_size, max_length)"
   ]
  },
  {
   "cell_type": "code",
   "execution_count": 293,
   "id": "induced-charter",
   "metadata": {},
   "outputs": [
    {
     "data": {
      "image/png": "[encoded data removed]",
      "text/plain": [
       "<IPython.core.display.Image object>"
      ]
     },
     "execution_count": 293,
     "metadata": {},
     "output_type": "execute_result"
    }
   ],
   "source": [
    "import pydot\n",
    "import graphviz\n",
    "tf.keras.utils.plot_model(model, show_shapes=True)"
   ]
  },
  {
   "cell_type": "code",
   "execution_count": 285,
   "id": "general-evaluation",
   "metadata": {},
   "outputs": [
    {
     "name": "stdout",
     "output_type": "stream",
     "text": [
      "Epoch 1/10\n",
      "274/274 - 25s - loss: 0.5730 - accuracy: 0.6854 - val_loss: 0.4990 - val_accuracy: 0.7583\n",
      "Epoch 2/10\n",
      "274/274 - 22s - loss: 0.4290 - accuracy: 0.8070 - val_loss: 0.5077 - val_accuracy: 0.7558\n",
      "Epoch 3/10\n",
      "274/274 - 22s - loss: 0.3175 - accuracy: 0.8673 - val_loss: 0.5645 - val_accuracy: 0.7424\n",
      "Epoch 4/10\n",
      "274/274 - 24s - loss: 0.2138 - accuracy: 0.9161 - val_loss: 0.6754 - val_accuracy: 0.7292\n",
      "Epoch 5/10\n",
      "274/274 - 23s - loss: 0.1524 - accuracy: 0.9417 - val_loss: 0.7791 - val_accuracy: 0.7180\n",
      "Epoch 6/10\n",
      "274/274 - 23s - loss: 0.1154 - accuracy: 0.9569 - val_loss: 0.8915 - val_accuracy: 0.7142\n",
      "Epoch 7/10\n",
      "274/274 - 23s - loss: 0.0926 - accuracy: 0.9654 - val_loss: 0.9873 - val_accuracy: 0.7068\n",
      "Epoch 8/10\n",
      "274/274 - 22s - loss: 0.0768 - accuracy: 0.9709 - val_loss: 1.0947 - val_accuracy: 0.7045\n",
      "Epoch 9/10\n",
      "274/274 - 22s - loss: 0.0646 - accuracy: 0.9755 - val_loss: 1.2009 - val_accuracy: 0.7018\n",
      "Epoch 10/10\n",
      "274/274 - 26s - loss: 0.0552 - accuracy: 0.9790 - val_loss: 1.3658 - val_accuracy: 0.6972\n"
     ]
    }
   ],
   "source": [
    "history = model.fit(X_train, Y_train, batch_size = 256, epochs=10, validation_data=(X_test, Y_test), verbose=2)"
   ]
  },
  {
   "cell_type": "code",
   "execution_count": 286,
   "id": "partial-sense",
   "metadata": {},
   "outputs": [],
   "source": [
    "import numpy as np\n",
    "y_pred = model.predict(X_test)\n",
    "y_pred = np.where(y_pred>0.5, 1, 0)"
   ]
  },
  {
   "cell_type": "code",
   "execution_count": 287,
   "id": "applicable-breed",
   "metadata": {},
   "outputs": [
    {
     "name": "stdout",
     "output_type": "stream",
     "text": [
      "              precision    recall  f1-score   support\n",
      "\n",
      "           0       0.70      0.69      0.70     15123\n",
      "           1       0.69      0.70      0.70     14877\n",
      "\n",
      "    accuracy                           0.70     30000\n",
      "   macro avg       0.70      0.70      0.70     30000\n",
      "weighted avg       0.70      0.70      0.70     30000\n",
      "\n"
     ]
    }
   ],
   "source": [
    "print(classification_report(Y_test, y_pred))"
   ]
  },
  {
   "cell_type": "code",
   "execution_count": 288,
   "id": "sufficient-making",
   "metadata": {},
   "outputs": [],
   "source": [
    "import matplotlib.pyplot as plt"
   ]
  },
  {
   "cell_type": "code",
   "execution_count": 289,
   "id": "plain-guide",
   "metadata": {},
   "outputs": [
    {
     "name": "stdout",
     "output_type": "stream",
     "text": [
      "Training Accuracy : 98.351431 \n"
     ]
    }
   ],
   "source": [
    "_, acc = model.evaluate(X_train, Y_train, verbose = 0)\n",
    "print('Training Accuracy : %f ' %(acc*100))"
   ]
  },
  {
   "cell_type": "code",
   "execution_count": 290,
   "id": "ceramic-active",
   "metadata": {},
   "outputs": [
    {
     "name": "stdout",
     "output_type": "stream",
     "text": [
      "Testing Accuracy : 69.716668 \n"
     ]
    }
   ],
   "source": [
    "_, acc = model.evaluate(X_test, Y_test, verbose = 0)\n",
    "print('Testing Accuracy : %f ' %(acc*100))"
   ]
  },
  {
   "cell_type": "code",
   "execution_count": 291,
   "id": "surprising-ranking",
   "metadata": {},
   "outputs": [
    {
     "data": {
      "image/png": "[encoded data removed]",
      "text/plain": [
       "<Figure size 720x360 with 1 Axes>"
      ]
     },
     "metadata": {
      "needs_background": "light"
     },
     "output_type": "display_data"
    },
    {
     "data": {
      "image/png": "[encoded data removed]",
      "text/plain": [
       "<Figure size 720x360 with 1 Axes>"
      ]
     },
     "metadata": {
      "needs_background": "light"
     },
     "output_type": "display_data"
    }
   ],
   "source": [
    "#History for accuracy\n",
    "plt.figure(figsize=(10,5))\n",
    "plt.plot(history.history['accuracy'])\n",
    "plt.plot(history.history['val_accuracy'])\n",
    "plt.title('model accuracy')\n",
    "plt.ylabel('accuracy')\n",
    "plt.xlabel('epoch')\n",
    "plt.legend(['Train accuracy', 'Test accuracy'], loc='lower right')\n",
    "plt.show()\n",
    "# History for loss\n",
    "plt.figure(figsize=(10,5))\n",
    "plt.plot(history.history['loss'])\n",
    "plt.plot(history.history['val_loss'])\n",
    "plt.title('model loss')\n",
    "plt.ylabel('loss')\n",
    "plt.xlabel('epoch')\n",
    "plt.legend(['Train loss', 'Test loss'], loc='upper right')\n",
    "plt.suptitle('Accuracy and loss for second model')\n",
    "plt.show()"
   ]
  },
  {
   "cell_type": "code",
   "execution_count": 356,
   "id": "neither-processor",
   "metadata": {},
   "outputs": [],
   "source": [
    "def predict_sentiment(review, vocab, tokenizer, max_length, model):\n",
    "    line = clean_data(review, stem = True)\n",
    "    padded = encode_tweet(tokenizer,max_length, review)\n",
    "    yhat = model.predict(padded, verbose = 0)\n",
    "    percent_pos = yhat[0,0]\n",
    "    if round(percent_pos) == 0:\n",
    "        return (1-percent_pos), \"Negative\"\n",
    "    return percent_pos, 'Positive'"
   ]
  },
  {
   "cell_type": "code",
   "execution_count": 357,
   "id": "nasty-music",
   "metadata": {},
   "outputs": [
    {
     "name": "stdout",
     "output_type": "stream",
     "text": [
      " Volume in drive C is OS\n",
      " Volume Serial Number is 8ADB-680F\n",
      "\n",
      " Directory of C:\\Users\\dell\\Desktop\\Machine Learning\\Project Twitter Sentiment Analysis\n",
      "\n",
      "17-03-2021  21:48    <DIR>          .\n",
      "17-03-2021  21:48    <DIR>          ..\n",
      "17-03-2021  12:05    <DIR>          .ipynb_checkpoints\n",
      "16-03-2021  20:35               355 app.py\n",
      "17-03-2021  12:51        68,440,533 cleadDataset.csv\n",
      "17-03-2021  12:29    <DIR>          dataset\n",
      "17-03-2021  13:45         6,212,519 dictionary.json\n",
      "12-03-2021  13:50             8,901 download.jpg\n",
      "17-03-2021  13:50           840,869 filteredDictionary.txt\n",
      "14-06-2020  18:44       347,116,733 glove.6B.100d.txt\n",
      "12-03-2021  17:27       137,847,651 glove100dimentional.zip\n",
      "17-03-2021  19:46            32,055 model.png\n",
      "12-03-2021  22:32                39 README.md\n",
      "17-03-2021  15:23           122,411 Twitter Sentiment Analysis.ipynb\n",
      "12-03-2021  22:09            11,149 Twitter Sentiment Analysis.py\n",
      "17-03-2021  21:48           150,511 Untitled.ipynb\n",
      "              12 File(s)    560,783,726 bytes\n",
      "               4 Dir(s)  745,201,254,400 bytes free\n"
     ]
    }
   ],
   "source": [
    "!dir"
   ]
  },
  {
   "cell_type": "code",
   "execution_count": 358,
   "id": "editorial-replacement",
   "metadata": {},
   "outputs": [],
   "source": [
    "vocab_filename = 'filteredDictionary.txt'"
   ]
  },
  {
   "cell_type": "code",
   "execution_count": 359,
   "id": "casual-typing",
   "metadata": {},
   "outputs": [],
   "source": [
    "vocab = load_doc(vocab_filename)"
   ]
  },
  {
   "cell_type": "code",
   "execution_count": 360,
   "id": "pleased-mason",
   "metadata": {
    "scrolled": true
   },
   "outputs": [
    {
     "data": {
      "text/plain": [
       "pandas.core.frame.DataFrame"
      ]
     },
     "execution_count": 360,
     "metadata": {},
     "output_type": "execute_result"
    }
   ],
   "source": [
    "type(train)"
   ]
  },
  {
   "cell_type": "code",
   "execution_count": 361,
   "id": "dying-special",
   "metadata": {
    "scrolled": true
   },
   "outputs": [
    {
     "data": {
      "text/plain": [
       "(70000, 2)"
      ]
     },
     "execution_count": 361,
     "metadata": {},
     "output_type": "execute_result"
    }
   ],
   "source": [
    "train.shape"
   ]
  },
  {
   "cell_type": "code",
   "execution_count": 362,
   "id": "human-poker",
   "metadata": {},
   "outputs": [
    {
     "data": {
      "text/html": [
       "<div>\n",
       "<style scoped>\n",
       "    .dataframe tbody tr th:only-of-type {\n",
       "        vertical-align: middle;\n",
       "    }\n",
       "\n",
       "    .dataframe tbody tr th {\n",
       "        vertical-align: top;\n",
       "    }\n",
       "\n",
       "    .dataframe thead th {\n",
       "        text-align: right;\n",
       "    }\n",
       "</style>\n",
       "<table border=\"1\" class=\"dataframe\">\n",
       "  <thead>\n",
       "    <tr style=\"text-align: right;\">\n",
       "      <th></th>\n",
       "      <th>target</th>\n",
       "      <th>content</th>\n",
       "    </tr>\n",
       "  </thead>\n",
       "  <tbody>\n",
       "    <tr>\n",
       "      <th>609352</th>\n",
       "      <td>0</td>\n",
       "      <td>sorri anyth</td>\n",
       "    </tr>\n",
       "    <tr>\n",
       "      <th>294026</th>\n",
       "      <td>0</td>\n",
       "      <td>heart amp prayer go passeng amp famili air fra...</td>\n",
       "    </tr>\n",
       "    <tr>\n",
       "      <th>1037682</th>\n",
       "      <td>1</td>\n",
       "      <td>alway look</td>\n",
       "    </tr>\n",
       "    <tr>\n",
       "      <th>1344115</th>\n",
       "      <td>1</td>\n",
       "      <td>loveeee kobe highest trend topic kobe kobe kobe</td>\n",
       "    </tr>\n",
       "    <tr>\n",
       "      <th>1293327</th>\n",
       "      <td>1</td>\n",
       "      <td></td>\n",
       "    </tr>\n",
       "  </tbody>\n",
       "</table>\n",
       "</div>"
      ],
      "text/plain": [
       "         target                                            content\n",
       "609352        0                                        sorri anyth\n",
       "294026        0  heart amp prayer go passeng amp famili air fra...\n",
       "1037682       1                                         alway look\n",
       "1344115       1    loveeee kobe highest trend topic kobe kobe kobe\n",
       "1293327       1                                                   "
      ]
     },
     "execution_count": 362,
     "metadata": {},
     "output_type": "execute_result"
    }
   ],
   "source": [
    "train.head()"
   ]
  },
  {
   "cell_type": "code",
   "execution_count": 363,
   "id": "charitable-village",
   "metadata": {},
   "outputs": [],
   "source": [
    "def create_tokenizer(train):\n",
    "    tokenizer = Tokenizer()\n",
    "    tokenizer.fit_on_texts(train.content)\n",
    "#     vocab_size = len(tokenizer.word_index) + 1\n",
    "    return tokenizer"
   ]
  },
  {
   "cell_type": "code",
   "execution_count": 364,
   "id": "variable-germany",
   "metadata": {},
   "outputs": [],
   "source": [
    "trainTokenizer = create_tokenizer(train)\n",
    "testTokenizer = create_tokenizer(test)"
   ]
  },
  {
   "cell_type": "code",
   "execution_count": 365,
   "id": "beneficial-calvin",
   "metadata": {},
   "outputs": [
    {
     "data": {
      "text/plain": [
       "37606"
      ]
     },
     "execution_count": 365,
     "metadata": {},
     "output_type": "execute_result"
    }
   ],
   "source": [
    "vocab_size = len(trainTokenizer.word_index) + 1\n",
    "vocab_size"
   ]
  },
  {
   "cell_type": "code",
   "execution_count": 368,
   "id": "terminal-sally",
   "metadata": {},
   "outputs": [
    {
     "name": "stdout",
     "output_type": "stream",
     "text": [
      "33\n"
     ]
    }
   ],
   "source": [
    "max_length1 = max([len(s.split()) for s in train.content])\n",
    "print(max_length1)"
   ]
  },
  {
   "cell_type": "code",
   "execution_count": 369,
   "id": "cardiovascular-education",
   "metadata": {},
   "outputs": [
    {
     "name": "stdout",
     "output_type": "stream",
     "text": [
      "34\n"
     ]
    }
   ],
   "source": [
    "max_length2 = max([len(s.split()) for s in test.content])\n",
    "print(max_length2)"
   ]
  },
  {
   "cell_type": "code",
   "execution_count": 370,
   "id": "recent-strip",
   "metadata": {},
   "outputs": [],
   "source": [
    "max_length =max_length2"
   ]
  },
  {
   "cell_type": "code",
   "execution_count": 371,
   "id": "careful-easter",
   "metadata": {},
   "outputs": [],
   "source": [
    "Xtrain = encode_docs(tokenizer, max_length, train.content)"
   ]
  },
  {
   "cell_type": "code",
   "execution_count": 372,
   "id": "micro-murray",
   "metadata": {},
   "outputs": [],
   "source": [
    "Xtest = encode_docs(tokenizer, max_length, test.content)"
   ]
  },
  {
   "cell_type": "code",
   "execution_count": 374,
   "id": "younger-blast",
   "metadata": {},
   "outputs": [],
   "source": [
    "ytrain=train['target']\n",
    "ytest = test['target']"
   ]
  },
  {
   "cell_type": "code",
   "execution_count": null,
   "id": "frank-margin",
   "metadata": {},
   "outputs": [],
   "source": [
    "_, acc = model.evaluate(Xtrain, ytrain, verbose=0)\n"
   ]
  },
  {
   "cell_type": "code",
   "execution_count": null,
   "id": "dense-designer",
   "metadata": {},
   "outputs": [],
   "source": []
  }
 ],
 "metadata": {
  "kernelspec": {
   "display_name": "Python 3",
   "language": "python",
   "name": "python3"
  },
  "language_info": {
   "codemirror_mode": {
    "name": "ipython",
    "version": 3
   },
   "file_extension": ".py",
   "mimetype": "text/x-python",
   "name": "python",
   "nbconvert_exporter": "python",
   "pygments_lexer": "ipython3",
   "version": "3.8.8"
  }
 },
 "nbformat": 4,
 "nbformat_minor": 5
}

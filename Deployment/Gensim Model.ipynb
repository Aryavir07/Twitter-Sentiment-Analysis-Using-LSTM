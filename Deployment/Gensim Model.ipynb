{
  "nbformat": 4,
  "nbformat_minor": 5,
  "metadata": {
    "kernelspec": {
      "display_name": "Python 3",
      "language": "python",
      "name": "python3"
    },
    "language_info": {
      "codemirror_mode": {
        "name": "ipython",
        "version": 3
      },
      "file_extension": ".py",
      "mimetype": "text/x-python",
      "name": "python",
      "nbconvert_exporter": "python",
      "pygments_lexer": "ipython3",
      "version": "3.8.8"
    },
    "colab": {
      "name": "Untitled.ipynb",
      "provenance": []
    },
    "accelerator": "GPU"
  },
  "cells": [
    {
      "cell_type": "code",
      "metadata": {
        "colab": {
          "base_uri": "https://localhost:8080/"
        },
        "id": "b9x8jtvJpbtI",
        "outputId": "6627f86c-5567-477f-d044-158189cdf7b5"
      },
      "source": [
        "from google.colab import drive\r\n",
        "drive.mount('/content/gdrive')"
      ],
      "id": "b9x8jtvJpbtI",
      "execution_count": 69,
      "outputs": [
        {
          "output_type": "stream",
          "text": [
            "Drive already mounted at /content/gdrive; to attempt to forcibly remount, call drive.mount(\"/content/gdrive\", force_remount=True).\n"
          ],
          "name": "stdout"
        }
      ]
    },
    {
      "cell_type": "code",
      "metadata": {
        "id": "usual-choir"
      },
      "source": [
        "import pandas as pd\n",
        "import numpy as np\n",
        "# Matplot\n",
        "import matplotlib.pyplot as plt\n",
        "from sklearn.model_selection import train_test_split\n",
        "from sklearn.preprocessing import LabelEncoder\n",
        "from sklearn.metrics import confusion_matrix, classification_report, accuracy_score\n",
        "from sklearn.manifold import TSNE\n",
        "from sklearn.feature_extraction.text import TfidfVectorizer\n",
        "from keras.preprocessing.text import Tokenizer\n",
        "from keras.preprocessing.sequence import pad_sequences\n",
        "from keras.models import Sequential\n",
        "from keras.layers import Activation, Dense, Dropout, Embedding, Flatten, Conv1D, MaxPooling1D, LSTM\n",
        "from keras import utils\n",
        "from keras.callbacks import ReduceLROnPlateau, EarlyStopping\n",
        "import nltk\n",
        "from nltk.corpus import stopwords\n",
        "from  nltk.stem import SnowballStemmer\n",
        "import gensim\n",
        "import re\n",
        "import numpy as np\n",
        "import os\n",
        "from collections import Counter\n",
        "import logging\n",
        "import time\n",
        "import pickle\n",
        "import itertools"
      ],
      "id": "usual-choir",
      "execution_count": 70,
      "outputs": []
    },
    {
      "cell_type": "code",
      "metadata": {
        "id": "muslim-tradition"
      },
      "source": [
        "DATASET_COLUMNS = [\"target\", \"ids\", \"date\", \"flag\", \"user\", \"text\"]\n",
        "DATASET_ENCODING = \"ISO-8859-1\"\n",
        "TRAIN_SIZE = 0.8\n",
        "\n",
        "# TEXT CLENAING\n",
        "TEXT_CLEANING_RE = \"@\\S+|https?:\\S+|http?:\\S|[^A-Za-z0-9]+\"\n",
        "\n",
        "# WORD2VEC \n",
        "W2V_SIZE = 300\n",
        "W2V_WINDOW = 7\n",
        "W2V_EPOCH = 32\n",
        "W2V_MIN_COUNT = 10\n",
        "\n",
        "# KERAS\n",
        "SEQUENCE_LENGTH = 300\n",
        "EPOCHS = 8\n",
        "BATCH_SIZE = 1024\n",
        "\n",
        "# SENTIMENT\n",
        "POSITIVE = \"POSITIVE\"\n",
        "NEGATIVE = \"NEGATIVE\"\n",
        "NEUTRAL = \"NEUTRAL\"\n",
        "SENTIMENT_THRESHOLDS = (0.4, 0.7)\n",
        "\n",
        "# EXPORT\n",
        "KERAS_MODEL = \"model.h5\"\n",
        "WORD2VEC_MODEL = \"model.w2v\"\n",
        "TOKENIZER_MODEL = \"tokenizer.pkl\"\n",
        "ENCODER_MODEL = \"encoder.pkl\""
      ],
      "id": "muslim-tradition",
      "execution_count": 71,
      "outputs": []
    },
    {
      "cell_type": "code",
      "metadata": {
        "id": "featured-method"
      },
      "source": [
        "df = pd.read_csv('/content/gdrive/MyDrive/dataset/tweets.csv', encoding =DATASET_ENCODING , names=DATASET_COLUMNS)"
      ],
      "id": "featured-method",
      "execution_count": 72,
      "outputs": []
    },
    {
      "cell_type": "code",
      "metadata": {
        "colab": {
          "base_uri": "https://localhost:8080/",
          "height": 447
        },
        "id": "mature-comparison",
        "outputId": "22181af0-e8ec-494a-c294-e45e9fcdd148"
      },
      "source": [
        "df.head()"
      ],
      "id": "mature-comparison",
      "execution_count": 73,
      "outputs": [
        {
          "output_type": "execute_result",
          "data": {
            "text/html": [
              "<div>\n",
              "<style scoped>\n",
              "    .dataframe tbody tr th:only-of-type {\n",
              "        vertical-align: middle;\n",
              "    }\n",
              "\n",
              "    .dataframe tbody tr th {\n",
              "        vertical-align: top;\n",
              "    }\n",
              "\n",
              "    .dataframe thead th {\n",
              "        text-align: right;\n",
              "    }\n",
              "</style>\n",
              "<table border=\"1\" class=\"dataframe\">\n",
              "  <thead>\n",
              "    <tr style=\"text-align: right;\">\n",
              "      <th></th>\n",
              "      <th>target</th>\n",
              "      <th>ids</th>\n",
              "      <th>date</th>\n",
              "      <th>flag</th>\n",
              "      <th>user</th>\n",
              "      <th>text</th>\n",
              "    </tr>\n",
              "  </thead>\n",
              "  <tbody>\n",
              "    <tr>\n",
              "      <th>0</th>\n",
              "      <td>0</td>\n",
              "      <td>1467810369</td>\n",
              "      <td>Mon Apr 06 22:19:45 PDT 2009</td>\n",
              "      <td>NO_QUERY</td>\n",
              "      <td>_TheSpecialOne_</td>\n",
              "      <td>@switchfoot http://twitpic.com/2y1zl - Awww, t...</td>\n",
              "    </tr>\n",
              "    <tr>\n",
              "      <th>1</th>\n",
              "      <td>0</td>\n",
              "      <td>1467810672</td>\n",
              "      <td>Mon Apr 06 22:19:49 PDT 2009</td>\n",
              "      <td>NO_QUERY</td>\n",
              "      <td>scotthamilton</td>\n",
              "      <td>is upset that he can't update his Facebook by ...</td>\n",
              "    </tr>\n",
              "    <tr>\n",
              "      <th>2</th>\n",
              "      <td>0</td>\n",
              "      <td>1467810917</td>\n",
              "      <td>Mon Apr 06 22:19:53 PDT 2009</td>\n",
              "      <td>NO_QUERY</td>\n",
              "      <td>mattycus</td>\n",
              "      <td>@Kenichan I dived many times for the ball. Man...</td>\n",
              "    </tr>\n",
              "    <tr>\n",
              "      <th>3</th>\n",
              "      <td>0</td>\n",
              "      <td>1467811184</td>\n",
              "      <td>Mon Apr 06 22:19:57 PDT 2009</td>\n",
              "      <td>NO_QUERY</td>\n",
              "      <td>ElleCTF</td>\n",
              "      <td>my whole body feels itchy and like its on fire</td>\n",
              "    </tr>\n",
              "    <tr>\n",
              "      <th>4</th>\n",
              "      <td>0</td>\n",
              "      <td>1467811193</td>\n",
              "      <td>Mon Apr 06 22:19:57 PDT 2009</td>\n",
              "      <td>NO_QUERY</td>\n",
              "      <td>Karoli</td>\n",
              "      <td>@nationwideclass no, it's not behaving at all....</td>\n",
              "    </tr>\n",
              "  </tbody>\n",
              "</table>\n",
              "</div>"
            ],
            "text/plain": [
              "   target  ...                                               text\n",
              "0       0  ...  @switchfoot http://twitpic.com/2y1zl - Awww, t...\n",
              "1       0  ...  is upset that he can't update his Facebook by ...\n",
              "2       0  ...  @Kenichan I dived many times for the ball. Man...\n",
              "3       0  ...    my whole body feels itchy and like its on fire \n",
              "4       0  ...  @nationwideclass no, it's not behaving at all....\n",
              "\n",
              "[5 rows x 6 columns]"
            ]
          },
          "metadata": {
            "tags": []
          },
          "execution_count": 73
        }
      ]
    },
    {
      "cell_type": "code",
      "metadata": {
        "colab": {
          "base_uri": "https://localhost:8080/"
        },
        "id": "contemporary-electric",
        "outputId": "c1109b40-74ee-4f51-fb37-f728f645bc7c"
      },
      "source": [
        "print(\"Dataset size:\", len(df))"
      ],
      "id": "contemporary-electric",
      "execution_count": 74,
      "outputs": [
        {
          "output_type": "stream",
          "text": [
            "Dataset size: 1600000\n"
          ],
          "name": "stdout"
        }
      ]
    },
    {
      "cell_type": "code",
      "metadata": {
        "id": "offshore-desert"
      },
      "source": [
        "from sklearn.utils import shuffle\n",
        "df = shuffle(df)"
      ],
      "id": "offshore-desert",
      "execution_count": 75,
      "outputs": []
    },
    {
      "cell_type": "code",
      "metadata": {
        "id": "greenhouse-assessment"
      },
      "source": [
        "df = df[0:400000]"
      ],
      "id": "greenhouse-assessment",
      "execution_count": 76,
      "outputs": []
    },
    {
      "cell_type": "code",
      "metadata": {
        "scrolled": true,
        "colab": {
          "base_uri": "https://localhost:8080/",
          "height": 414
        },
        "id": "senior-rugby",
        "outputId": "5afaa415-d31e-4f6d-d3d8-372ff317db3c"
      },
      "source": [
        "df.head()"
      ],
      "id": "senior-rugby",
      "execution_count": 77,
      "outputs": [
        {
          "output_type": "execute_result",
          "data": {
            "text/html": [
              "<div>\n",
              "<style scoped>\n",
              "    .dataframe tbody tr th:only-of-type {\n",
              "        vertical-align: middle;\n",
              "    }\n",
              "\n",
              "    .dataframe tbody tr th {\n",
              "        vertical-align: top;\n",
              "    }\n",
              "\n",
              "    .dataframe thead th {\n",
              "        text-align: right;\n",
              "    }\n",
              "</style>\n",
              "<table border=\"1\" class=\"dataframe\">\n",
              "  <thead>\n",
              "    <tr style=\"text-align: right;\">\n",
              "      <th></th>\n",
              "      <th>target</th>\n",
              "      <th>ids</th>\n",
              "      <th>date</th>\n",
              "      <th>flag</th>\n",
              "      <th>user</th>\n",
              "      <th>text</th>\n",
              "    </tr>\n",
              "  </thead>\n",
              "  <tbody>\n",
              "    <tr>\n",
              "      <th>1592468</th>\n",
              "      <td>4</td>\n",
              "      <td>2191751618</td>\n",
              "      <td>Tue Jun 16 05:54:17 PDT 2009</td>\n",
              "      <td>NO_QUERY</td>\n",
              "      <td>Godbath</td>\n",
              "      <td>had 5min to get to my connection flight desk. ...</td>\n",
              "    </tr>\n",
              "    <tr>\n",
              "      <th>409548</th>\n",
              "      <td>0</td>\n",
              "      <td>2059670445</td>\n",
              "      <td>Sat Jun 06 17:24:01 PDT 2009</td>\n",
              "      <td>NO_QUERY</td>\n",
              "      <td>Stephaniieee24</td>\n",
              "      <td>loves how a glass of squash turned into a drin...</td>\n",
              "    </tr>\n",
              "    <tr>\n",
              "      <th>722159</th>\n",
              "      <td>0</td>\n",
              "      <td>2261411939</td>\n",
              "      <td>Sat Jun 20 20:45:03 PDT 2009</td>\n",
              "      <td>NO_QUERY</td>\n",
              "      <td>indy622</td>\n",
              "      <td>Crap i forgot my chapstick</td>\n",
              "    </tr>\n",
              "    <tr>\n",
              "      <th>1461986</th>\n",
              "      <td>4</td>\n",
              "      <td>2063987934</td>\n",
              "      <td>Sun Jun 07 04:50:19 PDT 2009</td>\n",
              "      <td>NO_QUERY</td>\n",
              "      <td>alxndr</td>\n",
              "      <td>@OMGitsNoelle sorry, can't catch Dutch</td>\n",
              "    </tr>\n",
              "    <tr>\n",
              "      <th>448169</th>\n",
              "      <td>0</td>\n",
              "      <td>2068889541</td>\n",
              "      <td>Sun Jun 07 14:53:10 PDT 2009</td>\n",
              "      <td>NO_QUERY</td>\n",
              "      <td>hellorachael</td>\n",
              "      <td>@Rosie21 Nopee, but have a day of hardcore rev...</td>\n",
              "    </tr>\n",
              "  </tbody>\n",
              "</table>\n",
              "</div>"
            ],
            "text/plain": [
              "         target  ...                                               text\n",
              "1592468       4  ...  had 5min to get to my connection flight desk. ...\n",
              "409548        0  ...  loves how a glass of squash turned into a drin...\n",
              "722159        0  ...                        Crap i forgot my chapstick \n",
              "1461986       4  ...            @OMGitsNoelle sorry, can't catch Dutch \n",
              "448169        0  ...  @Rosie21 Nopee, but have a day of hardcore rev...\n",
              "\n",
              "[5 rows x 6 columns]"
            ]
          },
          "metadata": {
            "tags": []
          },
          "execution_count": 77
        }
      ]
    },
    {
      "cell_type": "code",
      "metadata": {
        "colab": {
          "base_uri": "https://localhost:8080/"
        },
        "id": "characteristic-township",
        "outputId": "fffafcf3-b999-47e2-c363-5cf7d2200c2f"
      },
      "source": [
        "df.shape"
      ],
      "id": "characteristic-township",
      "execution_count": 78,
      "outputs": [
        {
          "output_type": "execute_result",
          "data": {
            "text/plain": [
              "(400000, 6)"
            ]
          },
          "metadata": {
            "tags": []
          },
          "execution_count": 78
        }
      ]
    },
    {
      "cell_type": "code",
      "metadata": {
        "scrolled": true,
        "colab": {
          "base_uri": "https://localhost:8080/"
        },
        "id": "mysterious-thread",
        "outputId": "66b67dfb-49f4-4c4a-b8bd-806fc859cbd2"
      },
      "source": [
        "df[df['target']=='NEGATIVE'].count()"
      ],
      "id": "mysterious-thread",
      "execution_count": 79,
      "outputs": [
        {
          "output_type": "execute_result",
          "data": {
            "text/plain": [
              "target    0\n",
              "ids       0\n",
              "date      0\n",
              "flag      0\n",
              "user      0\n",
              "text      0\n",
              "dtype: int64"
            ]
          },
          "metadata": {
            "tags": []
          },
          "execution_count": 79
        }
      ]
    },
    {
      "cell_type": "code",
      "metadata": {
        "colab": {
          "base_uri": "https://localhost:8080/"
        },
        "id": "powered-partnership",
        "outputId": "102bac83-0ab0-4284-9722-2778e3549c22"
      },
      "source": [
        "df[df['target']=='POSITIVE'].count()"
      ],
      "id": "powered-partnership",
      "execution_count": 80,
      "outputs": [
        {
          "output_type": "execute_result",
          "data": {
            "text/plain": [
              "target    0\n",
              "ids       0\n",
              "date      0\n",
              "flag      0\n",
              "user      0\n",
              "text      0\n",
              "dtype: int64"
            ]
          },
          "metadata": {
            "tags": []
          },
          "execution_count": 80
        }
      ]
    },
    {
      "cell_type": "code",
      "metadata": {
        "id": "second-focus"
      },
      "source": [
        "decode_map = {0: \"NEGATIVE\", 2: \"NEUTRAL\", 4: \"POSITIVE\"}\n",
        "def decode_sentiment(label):\n",
        "    return decode_map[int(label)]"
      ],
      "id": "second-focus",
      "execution_count": 81,
      "outputs": []
    },
    {
      "cell_type": "code",
      "metadata": {
        "colab": {
          "base_uri": "https://localhost:8080/"
        },
        "id": "level-greek",
        "outputId": "2518db03-f97f-4c06-f6dc-6ff3de70799f"
      },
      "source": [
        "%%time\n",
        "df.target = df.target.apply(lambda x: decode_sentiment(x))"
      ],
      "id": "level-greek",
      "execution_count": 82,
      "outputs": [
        {
          "output_type": "stream",
          "text": [
            "CPU times: user 126 ms, sys: 2.84 ms, total: 129 ms\n",
            "Wall time: 132 ms\n"
          ],
          "name": "stdout"
        }
      ]
    },
    {
      "cell_type": "code",
      "metadata": {
        "colab": {
          "base_uri": "https://localhost:8080/",
          "height": 352
        },
        "id": "impossible-secret",
        "outputId": "80300e3f-0a89-49d2-f587-c90b0f5d2dcf"
      },
      "source": [
        "target_cnt = Counter(df.target)\n",
        "\n",
        "plt.figure(figsize=(16,8))\n",
        "plt.bar(target_cnt.keys(), target_cnt.values())\n",
        "plt.title(\"Dataset labels distribuition\")"
      ],
      "id": "impossible-secret",
      "execution_count": 83,
      "outputs": [
        {
          "output_type": "execute_result",
          "data": {
            "text/plain": [
              "Text(0.5, 1.0, 'Dataset labels distribuition')"
            ]
          },
          "metadata": {
            "tags": []
          },
          "execution_count": 83
        },
        {
          "output_type": "display_data",
          "data": {
            "image/png": "[encoded data removed]",
            "text/plain": [
              "<Figure size 1152x576 with 1 Axes>"
            ]
          },
          "metadata": {
            "tags": [],
            "needs_background": "light"
          }
        }
      ]
    },
    {
      "cell_type": "code",
      "metadata": {
        "colab": {
          "base_uri": "https://localhost:8080/"
        },
        "id": "iV0rPE2EpvKP",
        "outputId": "1afdd040-5177-4b4e-e334-6c1d5e563879"
      },
      "source": [
        "import nltk\r\n",
        "nltk.download('stopwords')"
      ],
      "id": "iV0rPE2EpvKP",
      "execution_count": 84,
      "outputs": [
        {
          "output_type": "stream",
          "text": [
            "[nltk_data] Downloading package stopwords to /root/nltk_data...\n",
            "[nltk_data]   Package stopwords is already up-to-date!\n"
          ],
          "name": "stdout"
        },
        {
          "output_type": "execute_result",
          "data": {
            "text/plain": [
              "True"
            ]
          },
          "metadata": {
            "tags": []
          },
          "execution_count": 84
        }
      ]
    },
    {
      "cell_type": "code",
      "metadata": {
        "id": "signal-regression"
      },
      "source": [
        "stop_words = stopwords.words(\"english\")\n",
        "stemmer = SnowballStemmer(\"english\")"
      ],
      "id": "signal-regression",
      "execution_count": 85,
      "outputs": []
    },
    {
      "cell_type": "code",
      "metadata": {
        "id": "descending-trustee"
      },
      "source": [
        "def preprocess(text, stem=False):\n",
        "    # Remove link,user and special characters\n",
        "    text = re.sub(TEXT_CLEANING_RE, ' ', str(text).lower()).strip()\n",
        "    tokens = []\n",
        "    for token in text.split():\n",
        "        if token not in stop_words:\n",
        "            if stem:\n",
        "                tokens.append(stemmer.stem(token))\n",
        "            else:\n",
        "                tokens.append(token)\n",
        "    return \" \".join(tokens)"
      ],
      "id": "descending-trustee",
      "execution_count": 86,
      "outputs": []
    },
    {
      "cell_type": "code",
      "metadata": {
        "colab": {
          "base_uri": "https://localhost:8080/"
        },
        "id": "agreed-mistress",
        "outputId": "cd7d4c8d-390f-4df6-dc15-9fc5fc698840"
      },
      "source": [
        "%%time\n",
        "df.text = df.text.apply(lambda x: preprocess(x))"
      ],
      "id": "agreed-mistress",
      "execution_count": 87,
      "outputs": [
        {
          "output_type": "stream",
          "text": [
            "CPU times: user 13 s, sys: 2.96 ms, total: 13 s\n",
            "Wall time: 13 s\n"
          ],
          "name": "stdout"
        }
      ]
    },
    {
      "cell_type": "code",
      "metadata": {
        "colab": {
          "base_uri": "https://localhost:8080/"
        },
        "id": "ongoing-emission",
        "outputId": "a2f492c4-328d-4b7b-c6b2-69b92a8ecae0"
      },
      "source": [
        "df_train, df_test = train_test_split(df, test_size=1-TRAIN_SIZE, random_state=42)\n",
        "print(\"TRAIN size:\", len(df_train))\n",
        "print(\"TEST size:\", len(df_test))"
      ],
      "id": "ongoing-emission",
      "execution_count": 88,
      "outputs": [
        {
          "output_type": "stream",
          "text": [
            "TRAIN size: 320000\n",
            "TEST size: 80000\n"
          ],
          "name": "stdout"
        }
      ]
    },
    {
      "cell_type": "code",
      "metadata": {
        "colab": {
          "base_uri": "https://localhost:8080/"
        },
        "id": "fundamental-congo",
        "outputId": "ed46bc4e-71e7-454c-a4c4-33dd0a66d958"
      },
      "source": [
        "%%time\n",
        "documents = [_text.split() for _text in df_train.text] "
      ],
      "id": "fundamental-congo",
      "execution_count": 89,
      "outputs": [
        {
          "output_type": "stream",
          "text": [
            "CPU times: user 803 ms, sys: 71.9 ms, total: 875 ms\n",
            "Wall time: 876 ms\n"
          ],
          "name": "stdout"
        }
      ]
    },
    {
      "cell_type": "code",
      "metadata": {
        "id": "spare-palestinian"
      },
      "source": [
        "w2v_model = gensim.models.word2vec.Word2Vec(size=W2V_SIZE, \n",
        "                                            window=W2V_WINDOW, \n",
        "                                            min_count=W2V_MIN_COUNT, \n",
        "                                            workers=8)"
      ],
      "id": "spare-palestinian",
      "execution_count": 90,
      "outputs": []
    },
    {
      "cell_type": "code",
      "metadata": {
        "id": "surprised-crime"
      },
      "source": [
        "w2v_model.build_vocab(documents)"
      ],
      "id": "surprised-crime",
      "execution_count": 91,
      "outputs": []
    },
    {
      "cell_type": "code",
      "metadata": {
        "colab": {
          "base_uri": "https://localhost:8080/"
        },
        "id": "signal-qatar",
        "outputId": "e9fc4732-a715-42f7-f7ad-4ffe3bf79e5b"
      },
      "source": [
        "words = w2v_model.wv.vocab.keys()\n",
        "vocab_size = len(words)\n",
        "print(\"Vocab size\", vocab_size)"
      ],
      "id": "signal-qatar",
      "execution_count": 92,
      "outputs": [
        {
          "output_type": "stream",
          "text": [
            "Vocab size 13413\n"
          ],
          "name": "stdout"
        }
      ]
    },
    {
      "cell_type": "code",
      "metadata": {
        "colab": {
          "base_uri": "https://localhost:8080/"
        },
        "id": "passive-schema",
        "outputId": "d870b9de-3dc4-442b-964c-95bfd0da6f37"
      },
      "source": [
        "%%time\n",
        "w2v_model.train(documents, total_examples=len(documents), epochs=W2V_EPOCH)"
      ],
      "id": "passive-schema",
      "execution_count": 93,
      "outputs": [
        {
          "output_type": "stream",
          "text": [
            "CPU times: user 4min 20s, sys: 543 ms, total: 4min 20s\n",
            "Wall time: 2min 13s\n"
          ],
          "name": "stdout"
        },
        {
          "output_type": "execute_result",
          "data": {
            "text/plain": [
              "(63205643, 73879552)"
            ]
          },
          "metadata": {
            "tags": []
          },
          "execution_count": 93
        }
      ]
    },
    {
      "cell_type": "code",
      "metadata": {
        "colab": {
          "base_uri": "https://localhost:8080/"
        },
        "id": "colored-hybrid",
        "outputId": "93c39f80-bdf2-460b-b4a7-dfcf3229b47a"
      },
      "source": [
        "w2v_model.most_similar(\"peace\")"
      ],
      "id": "colored-hybrid",
      "execution_count": 94,
      "outputs": [
        {
          "output_type": "stream",
          "text": [
            "/usr/local/lib/python3.7/dist-packages/ipykernel_launcher.py:1: DeprecationWarning: Call to deprecated `most_similar` (Method will be removed in 4.0.0, use self.wv.most_similar() instead).\n",
            "  \"\"\"Entry point for launching an IPython kernel.\n"
          ],
          "name": "stderr"
        },
        {
          "output_type": "execute_result",
          "data": {
            "text/plain": [
              "[('relaxation', 0.42266565561294556),\n",
              " ('weary', 0.3482041358947754),\n",
              " ('blessings', 0.32827872037887573),\n",
              " ('peacefully', 0.313678503036499),\n",
              " ('farrah', 0.3011729419231415),\n",
              " ('prayers', 0.27329856157302856),\n",
              " ('bless', 0.26331016421318054),\n",
              " ('goodnight', 0.26001664996147156),\n",
              " ('affair', 0.25833308696746826),\n",
              " ('jonathanrknight', 0.2579716145992279)]"
            ]
          },
          "metadata": {
            "tags": []
          },
          "execution_count": 94
        }
      ]
    },
    {
      "cell_type": "code",
      "metadata": {
        "colab": {
          "base_uri": "https://localhost:8080/"
        },
        "id": "exclusive-chain",
        "outputId": "0d9e5e2c-b73d-4a80-9e91-8eda06daf6c1"
      },
      "source": [
        "%%time\n",
        "tokenizer = Tokenizer()\n",
        "tokenizer.fit_on_texts(df_train.text)\n",
        "\n",
        "vocab_size = len(tokenizer.word_index) + 1\n",
        "print(\"Total words\", vocab_size)"
      ],
      "id": "exclusive-chain",
      "execution_count": 95,
      "outputs": [
        {
          "output_type": "stream",
          "text": [
            "Total words 119938\n",
            "CPU times: user 3.6 s, sys: 104 ms, total: 3.7 s\n",
            "Wall time: 3.61 s\n"
          ],
          "name": "stdout"
        }
      ]
    },
    {
      "cell_type": "code",
      "metadata": {
        "colab": {
          "base_uri": "https://localhost:8080/"
        },
        "id": "saved-quantity",
        "outputId": "8120ddfd-2093-44a6-b83e-607cfb86bf2f"
      },
      "source": [
        "%%time\n",
        "x_train = pad_sequences(tokenizer.texts_to_sequences(df_train.text), maxlen=SEQUENCE_LENGTH)\n",
        "x_test = pad_sequences(tokenizer.texts_to_sequences(df_test.text), maxlen=SEQUENCE_LENGTH)"
      ],
      "id": "saved-quantity",
      "execution_count": 96,
      "outputs": [
        {
          "output_type": "stream",
          "text": [
            "CPU times: user 5.41 s, sys: 111 ms, total: 5.52 s\n",
            "Wall time: 5.52 s\n"
          ],
          "name": "stdout"
        }
      ]
    },
    {
      "cell_type": "code",
      "metadata": {
        "colab": {
          "base_uri": "https://localhost:8080/"
        },
        "id": "plain-decimal",
        "outputId": "31890c38-8a1d-474f-93f9-d8a5b73bbf09"
      },
      "source": [
        "labels = df_train.target.unique().tolist()\n",
        "labels.append(NEUTRAL)\n",
        "labels"
      ],
      "id": "plain-decimal",
      "execution_count": 97,
      "outputs": [
        {
          "output_type": "execute_result",
          "data": {
            "text/plain": [
              "['POSITIVE', 'NEGATIVE', 'NEUTRAL']"
            ]
          },
          "metadata": {
            "tags": []
          },
          "execution_count": 97
        }
      ]
    },
    {
      "cell_type": "code",
      "metadata": {
        "colab": {
          "base_uri": "https://localhost:8080/"
        },
        "id": "authentic-petersburg",
        "outputId": "3e274941-02a2-41c1-f9ec-7135703878b2"
      },
      "source": [
        "encoder = LabelEncoder()\n",
        "encoder.fit(df_train.target.tolist())\n",
        "\n",
        "y_train = encoder.transform(df_train.target.tolist())\n",
        "y_test = encoder.transform(df_test.target.tolist())\n",
        "\n",
        "y_train = y_train.reshape(-1,1)\n",
        "y_test = y_test.reshape(-1,1)\n",
        "\n",
        "print(\"y_train\",y_train.shape)\n",
        "print(\"y_test\",y_test.shape)"
      ],
      "id": "authentic-petersburg",
      "execution_count": 98,
      "outputs": [
        {
          "output_type": "stream",
          "text": [
            "y_train (320000, 1)\n",
            "y_test (80000, 1)\n"
          ],
          "name": "stdout"
        }
      ]
    },
    {
      "cell_type": "code",
      "metadata": {
        "colab": {
          "base_uri": "https://localhost:8080/"
        },
        "id": "fossil-empire",
        "outputId": "21faebe5-f6b5-4d09-892e-8813140d7c27"
      },
      "source": [
        "print(\"x_train\", x_train.shape)\n",
        "print(\"y_train\", y_train.shape)\n",
        "print()\n",
        "print(\"x_test\", x_test.shape)\n",
        "print(\"y_test\", y_test.shape)"
      ],
      "id": "fossil-empire",
      "execution_count": 99,
      "outputs": [
        {
          "output_type": "stream",
          "text": [
            "x_train (320000, 300)\n",
            "y_train (320000, 1)\n",
            "\n",
            "x_test (80000, 300)\n",
            "y_test (80000, 1)\n"
          ],
          "name": "stdout"
        }
      ]
    },
    {
      "cell_type": "code",
      "metadata": {
        "colab": {
          "base_uri": "https://localhost:8080/"
        },
        "id": "antique-asbestos",
        "outputId": "3bd57598-572d-4dc9-cccf-496b38e4c9c2"
      },
      "source": [
        "embedding_matrix = np.zeros((vocab_size, W2V_SIZE))\n",
        "for word, i in tokenizer.word_index.items():\n",
        "  if word in w2v_model.wv:\n",
        "    embedding_matrix[i] = w2v_model.wv[word]\n",
        "print(embedding_matrix.shape)"
      ],
      "id": "antique-asbestos",
      "execution_count": 100,
      "outputs": [
        {
          "output_type": "stream",
          "text": [
            "(119938, 300)\n"
          ],
          "name": "stdout"
        }
      ]
    },
    {
      "cell_type": "code",
      "metadata": {
        "id": "catholic-playing"
      },
      "source": [
        "embedding_layer = Embedding(vocab_size, W2V_SIZE, weights=[embedding_matrix], input_length=SEQUENCE_LENGTH, trainable=False)"
      ],
      "id": "catholic-playing",
      "execution_count": 101,
      "outputs": []
    },
    {
      "cell_type": "code",
      "metadata": {
        "colab": {
          "base_uri": "https://localhost:8080/"
        },
        "id": "intended-doctor",
        "outputId": "d3bc6ed1-cea9-49dc-b1ee-8ab9b0de8160"
      },
      "source": [
        "model = Sequential()\n",
        "model.add(embedding_layer)\n",
        "model.add(Dropout(0.5))\n",
        "model.add(LSTM(100, dropout=0.2, recurrent_dropout=0.2))\n",
        "model.add(Dense(1, activation='sigmoid'))\n",
        "\n",
        "model.summary()"
      ],
      "id": "intended-doctor",
      "execution_count": 102,
      "outputs": [
        {
          "output_type": "stream",
          "text": [
            "WARNING:tensorflow:Layer lstm_1 will not use cuDNN kernel since it doesn't meet the cuDNN kernel criteria. It will use generic GPU kernel as fallback when running on GPU\n",
            "Model: \"sequential_1\"\n",
            "_________________________________________________________________\n",
            "Layer (type)                 Output Shape              Param #   \n",
            "=================================================================\n",
            "embedding_1 (Embedding)      (None, 300, 300)          35981400  \n",
            "_________________________________________________________________\n",
            "dropout_1 (Dropout)          (None, 300, 300)          0         \n",
            "_________________________________________________________________\n",
            "lstm_1 (LSTM)                (None, 100)               160400    \n",
            "_________________________________________________________________\n",
            "dense_1 (Dense)              (None, 1)                 101       \n",
            "=================================================================\n",
            "Total params: 36,141,901\n",
            "Trainable params: 160,501\n",
            "Non-trainable params: 35,981,400\n",
            "_________________________________________________________________\n"
          ],
          "name": "stdout"
        }
      ]
    },
    {
      "cell_type": "code",
      "metadata": {
        "id": "underlying-papua"
      },
      "source": [
        "model.compile(loss='binary_crossentropy',\n",
        "              optimizer=\"adam\",\n",
        "              metrics=['accuracy'])"
      ],
      "id": "underlying-papua",
      "execution_count": 103,
      "outputs": []
    },
    {
      "cell_type": "code",
      "metadata": {
        "id": "rational-terrace"
      },
      "source": [
        "callbacks = [ ReduceLROnPlateau(monitor='val_loss', patience=5, cooldown=0),\n",
        "              EarlyStopping(monitor='val_accuracy', min_delta=1e-4, patience=5)]"
      ],
      "id": "rational-terrace",
      "execution_count": 106,
      "outputs": []
    },
    {
      "cell_type": "code",
      "metadata": {
        "colab": {
          "base_uri": "https://localhost:8080/"
        },
        "id": "3LVyg0ySrS92",
        "outputId": "4b6eb766-8d00-443d-8dd7-2ea3b2778a23"
      },
      "source": [
        "df.shape, x_train.shape, y_train.shape"
      ],
      "id": "3LVyg0ySrS92",
      "execution_count": 107,
      "outputs": [
        {
          "output_type": "execute_result",
          "data": {
            "text/plain": [
              "((400000, 6), (320000, 300), (320000, 1))"
            ]
          },
          "metadata": {
            "tags": []
          },
          "execution_count": 107
        }
      ]
    },
    {
      "cell_type": "code",
      "metadata": {
        "colab": {
          "base_uri": "https://localhost:8080/"
        },
        "id": "correct-paintball",
        "outputId": "13b291b1-bf60-4a01-8f83-b313d2384237"
      },
      "source": [
        "%%time\n",
        "history = model.fit(x_train, y_train,\n",
        "                    batch_size=2048,\n",
        "                    epochs=EPOCHS,\n",
        "                    validation_split=0.1,\n",
        "                    verbose=1,\n",
        "                    callbacks=callbacks)"
      ],
      "id": "correct-paintball",
      "execution_count": 108,
      "outputs": [
        {
          "output_type": "stream",
          "text": [
            "Epoch 1/8\n",
            "141/141 [==============================] - 161s 1s/step - loss: 0.5053 - accuracy: 0.7497 - val_loss: 0.4867 - val_accuracy: 0.7669\n",
            "Epoch 2/8\n",
            "141/141 [==============================] - 162s 1s/step - loss: 0.4972 - accuracy: 0.7545 - val_loss: 0.4865 - val_accuracy: 0.7682\n",
            "Epoch 3/8\n",
            "141/141 [==============================] - 166s 1s/step - loss: 0.4919 - accuracy: 0.7591 - val_loss: 0.4847 - val_accuracy: 0.7694\n",
            "Epoch 4/8\n",
            "141/141 [==============================] - 163s 1s/step - loss: 0.4879 - accuracy: 0.7606 - val_loss: 0.4795 - val_accuracy: 0.7720\n",
            "Epoch 5/8\n",
            "141/141 [==============================] - 164s 1s/step - loss: 0.4841 - accuracy: 0.7634 - val_loss: 0.4781 - val_accuracy: 0.7728\n",
            "Epoch 6/8\n",
            "141/141 [==============================] - 160s 1s/step - loss: 0.4820 - accuracy: 0.7650 - val_loss: 0.4760 - val_accuracy: 0.7747\n",
            "Epoch 7/8\n",
            "141/141 [==============================] - 160s 1s/step - loss: 0.4791 - accuracy: 0.7667 - val_loss: 0.4726 - val_accuracy: 0.7758\n",
            "Epoch 8/8\n",
            "141/141 [==============================] - 162s 1s/step - loss: 0.4766 - accuracy: 0.7682 - val_loss: 0.4748 - val_accuracy: 0.7757\n",
            "CPU times: user 30min 8s, sys: 3min 51s, total: 33min 59s\n",
            "Wall time: 21min 36s\n"
          ],
          "name": "stdout"
        }
      ]
    },
    {
      "cell_type": "code",
      "metadata": {
        "colab": {
          "base_uri": "https://localhost:8080/"
        },
        "id": "graphic-personal",
        "outputId": "e64fd762-8a57-45fa-b226-691df7cb6cf9"
      },
      "source": [
        "%%time\n",
        "score = model.evaluate(x_test, y_test, batch_size=BATCH_SIZE)\n",
        "print()\n",
        "print(\"ACCURACY:\",score[1])\n",
        "print(\"LOSS:\",score[0])"
      ],
      "id": "graphic-personal",
      "execution_count": 109,
      "outputs": [
        {
          "output_type": "stream",
          "text": [
            "79/79 [==============================] - 14s 173ms/step - loss: 0.4760 - accuracy: 0.7755\n",
            "\n",
            "ACCURACY: 0.775475025177002\n",
            "LOSS: 0.47599634528160095\n",
            "CPU times: user 13.1 s, sys: 861 ms, total: 14 s\n",
            "Wall time: 13.8 s\n"
          ],
          "name": "stdout"
        }
      ]
    },
    {
      "cell_type": "code",
      "metadata": {
        "colab": {
          "base_uri": "https://localhost:8080/",
          "height": 545
        },
        "id": "educated-updating",
        "outputId": "74553f8f-a8bb-4e3d-9b87-1ba5794c87aa"
      },
      "source": [
        "acc = history.history['accuracy']\n",
        "val_acc = history.history['val_loss']\n",
        "loss = history.history['loss']\n",
        "val_loss = history.history['val_loss']\n",
        " \n",
        "epochs = range(len(acc))\n",
        " \n",
        "plt.plot(epochs, acc, 'b', label='Training acc')\n",
        "plt.plot(epochs, val_acc, 'r', label='Validation acc')\n",
        "plt.title('Training and validation accuracy')\n",
        "plt.legend()\n",
        " \n",
        "plt.figure()\n",
        " \n",
        "plt.plot(epochs, loss, 'b', label='Training loss')\n",
        "plt.plot(epochs, val_loss, 'r', label='Validation loss')\n",
        "plt.title('Training and validation loss')\n",
        "plt.legend()\n",
        " \n",
        "plt.show()"
      ],
      "id": "educated-updating",
      "execution_count": 110,
      "outputs": [
        {
          "output_type": "display_data",
          "data": {
            "image/png": "[encoded data removed]",
            "text/plain": [
              "<Figure size 432x288 with 1 Axes>"
            ]
          },
          "metadata": {
            "tags": [],
            "needs_background": "light"
          }
        },
        {
          "output_type": "display_data",
          "data": {
            "image/png": "[encoded data removed]",
            "text/plain": [
              "<Figure size 432x288 with 1 Axes>"
            ]
          },
          "metadata": {
            "tags": [],
            "needs_background": "light"
          }
        }
      ]
    },
    {
      "cell_type": "code",
      "metadata": {
        "id": "noted-slovenia"
      },
      "source": [
        "def decode_sentiment(score, include_neutral=True):\r\n",
        "    if include_neutral:        \r\n",
        "        label = NEUTRAL\r\n",
        "        if score <= SENTIMENT_THRESHOLDS[0]:\r\n",
        "            label = NEGATIVE\r\n",
        "        elif score >= SENTIMENT_THRESHOLDS[1]:\r\n",
        "            label = POSITIVE\r\n",
        "\r\n",
        "        return label\r\n",
        "    else:\r\n",
        "        return NEGATIVE if score < 0.5 else POSITIVE"
      ],
      "id": "noted-slovenia",
      "execution_count": 111,
      "outputs": []
    },
    {
      "cell_type": "code",
      "metadata": {
        "id": "sgGsep5qxiLu"
      },
      "source": [
        "def predict(text, include_neutral=True):\r\n",
        "    start_at = time.time()\r\n",
        "    # Tokenize text\r\n",
        "    x_test = pad_sequences(tokenizer.texts_to_sequences([text]), maxlen=SEQUENCE_LENGTH)\r\n",
        "    # Predict\r\n",
        "    score = model.predict([x_test])[0]\r\n",
        "    # Decode sentiment\r\n",
        "    label = decode_sentiment(score, include_neutral=include_neutral)\r\n",
        "\r\n",
        "    return {\"label\": label, \"score\": float(score),\r\n",
        "       \"elapsed_time\": time.time()-start_at}  "
      ],
      "id": "sgGsep5qxiLu",
      "execution_count": 112,
      "outputs": []
    },
    {
      "cell_type": "code",
      "metadata": {
        "colab": {
          "base_uri": "https://localhost:8080/"
        },
        "id": "clFoIoNFxjmo",
        "outputId": "20cbd93d-2682-4e3f-82c9-c0d1f70915aa"
      },
      "source": [
        "predict(\"I love the music\")"
      ],
      "id": "clFoIoNFxjmo",
      "execution_count": 113,
      "outputs": [
        {
          "output_type": "execute_result",
          "data": {
            "text/plain": [
              "{'elapsed_time': 0.28885912895202637,\n",
              " 'label': 'POSITIVE',\n",
              " 'score': 0.982218861579895}"
            ]
          },
          "metadata": {
            "tags": []
          },
          "execution_count": 113
        }
      ]
    },
    {
      "cell_type": "code",
      "metadata": {
        "colab": {
          "base_uri": "https://localhost:8080/"
        },
        "id": "0Th4jSyyxlFL",
        "outputId": "475cbd78-e123-4449-80d7-4d75e903f932"
      },
      "source": [
        "predict(\"i don't know what i'm doing\")"
      ],
      "id": "0Th4jSyyxlFL",
      "execution_count": 114,
      "outputs": [
        {
          "output_type": "execute_result",
          "data": {
            "text/plain": [
              "{'elapsed_time': 0.0877985954284668,\n",
              " 'label': 'NEGATIVE',\n",
              " 'score': 0.39202985167503357}"
            ]
          },
          "metadata": {
            "tags": []
          },
          "execution_count": 114
        }
      ]
    },
    {
      "cell_type": "code",
      "metadata": {
        "colab": {
          "base_uri": "https://localhost:8080/"
        },
        "id": "ferjlV4Kxn-Y",
        "outputId": "a81451fa-1f7a-4367-84a5-03ce93c6032c"
      },
      "source": [
        "%%time\r\n",
        "y_pred_1d = []\r\n",
        "y_test_1d = list(df_test.target)\r\n",
        "scores = model.predict(x_test, verbose=1, batch_size=8000)\r\n",
        "y_pred_1d = [decode_sentiment(score, include_neutral=False) for score in scores]"
      ],
      "id": "ferjlV4Kxn-Y",
      "execution_count": 115,
      "outputs": [
        {
          "output_type": "stream",
          "text": [
            "10/10 [==============================] - 12s 1s/step\n",
            "CPU times: user 8.22 s, sys: 4.44 s, total: 12.7 s\n",
            "Wall time: 12.4 s\n"
          ],
          "name": "stdout"
        }
      ]
    },
    {
      "cell_type": "code",
      "metadata": {
        "id": "h7z5yI-PxqzM"
      },
      "source": [
        "def plot_confusion_matrix(cm, classes,\r\n",
        "                          title='Confusion matrix',\r\n",
        "                          cmap=plt.cm.Blues):\r\n",
        "    \"\"\"\r\n",
        "    This function prints and plots the confusion matrix.\r\n",
        "    Normalization can be applied by setting `normalize=True`.\r\n",
        "    \"\"\"\r\n",
        "\r\n",
        "    cm = cm.astype('float') / cm.sum(axis=1)[:, np.newaxis]\r\n",
        "\r\n",
        "    plt.imshow(cm, interpolation='nearest', cmap=cmap)\r\n",
        "    plt.title(title, fontsize=30)\r\n",
        "    plt.colorbar()\r\n",
        "    tick_marks = np.arange(len(classes))\r\n",
        "    plt.xticks(tick_marks, classes, rotation=90, fontsize=22)\r\n",
        "    plt.yticks(tick_marks, classes, fontsize=22)\r\n",
        "\r\n",
        "    fmt = '.2f'\r\n",
        "    thresh = cm.max() / 2.\r\n",
        "    for i, j in itertools.product(range(cm.shape[0]), range(cm.shape[1])):\r\n",
        "        plt.text(j, i, format(cm[i, j], fmt),\r\n",
        "                 horizontalalignment=\"center\",\r\n",
        "                 color=\"white\" if cm[i, j] > thresh else \"black\")\r\n",
        "\r\n",
        "    plt.ylabel('True label', fontsize=25)\r\n",
        "    plt.xlabel('Predicted label', fontsize=25)"
      ],
      "id": "h7z5yI-PxqzM",
      "execution_count": 116,
      "outputs": []
    },
    {
      "cell_type": "code",
      "metadata": {
        "colab": {
          "base_uri": "https://localhost:8080/",
          "height": 654
        },
        "id": "KYwV8E7Dxw0S",
        "outputId": "22a79d2d-f45d-4d20-819e-02107e2d8b60"
      },
      "source": [
        "%%time\r\n",
        "\r\n",
        "cnf_matrix = confusion_matrix(y_test_1d, y_pred_1d)\r\n",
        "plt.figure(figsize=(12,12))\r\n",
        "plot_confusion_matrix(cnf_matrix, classes=df_train.target.unique(), title=\"Confusion matrix\")\r\n",
        "plt.show()"
      ],
      "id": "KYwV8E7Dxw0S",
      "execution_count": 117,
      "outputs": [
        {
          "output_type": "display_data",
          "data": {
            "image/png": "[encoded data removed]",
            "text/plain": [
              "<Figure size 864x864 with 2 Axes>"
            ]
          },
          "metadata": {
            "tags": [],
            "needs_background": "light"
          }
        },
        {
          "output_type": "stream",
          "text": [
            "CPU times: user 402 ms, sys: 5.97 ms, total: 408 ms\n",
            "Wall time: 414 ms\n"
          ],
          "name": "stdout"
        }
      ]
    },
    {
      "cell_type": "code",
      "metadata": {
        "colab": {
          "base_uri": "https://localhost:8080/"
        },
        "id": "g6ZWsjTSxyVs",
        "outputId": "9d359cc4-568c-4258-d047-3dc3c884bbd0"
      },
      "source": [
        "print(classification_report(y_test_1d, y_pred_1d))"
      ],
      "id": "g6ZWsjTSxyVs",
      "execution_count": 118,
      "outputs": [
        {
          "output_type": "stream",
          "text": [
            "              precision    recall  f1-score   support\n",
            "\n",
            "    NEGATIVE       0.79      0.76      0.77     39883\n",
            "    POSITIVE       0.77      0.79      0.78     40117\n",
            "\n",
            "    accuracy                           0.78     80000\n",
            "   macro avg       0.78      0.78      0.78     80000\n",
            "weighted avg       0.78      0.78      0.78     80000\n",
            "\n"
          ],
          "name": "stdout"
        }
      ]
    },
    {
      "cell_type": "code",
      "metadata": {
        "colab": {
          "base_uri": "https://localhost:8080/"
        },
        "id": "b7ZeZyQyx0Im",
        "outputId": "5334f0d1-801d-4502-c90d-a7275f17dc95"
      },
      "source": [
        "accuracy_score(y_test_1d, y_pred_1d)"
      ],
      "id": "b7ZeZyQyx0Im",
      "execution_count": 119,
      "outputs": [
        {
          "output_type": "execute_result",
          "data": {
            "text/plain": [
              "0.775475"
            ]
          },
          "metadata": {
            "tags": []
          },
          "execution_count": 119
        }
      ]
    },
    {
      "cell_type": "code",
      "metadata": {
        "id": "ARLdi--ux1oS"
      },
      "source": [
        "model.save(KERAS_MODEL)\r\n",
        "w2v_model.save(WORD2VEC_MODEL)\r\n",
        "pickle.dump(tokenizer, open(TOKENIZER_MODEL, \"wb\"), protocol=0)\r\n",
        "pickle.dump(encoder, open(ENCODER_MODEL, \"wb\"), protocol=0)"
      ],
      "id": "ARLdi--ux1oS",
      "execution_count": 120,
      "outputs": []
    }
  ]
}
